{
  "nbformat": 4,
  "nbformat_minor": 0,
  "metadata": {
    "colab": {
      "provenance": []
    },
    "kernelspec": {
      "name": "python3",
      "display_name": "Python 3"
    },
    "language_info": {
      "name": "python"
    }
  },
  "cells": [
    {
      "cell_type": "code",
      "execution_count": 1,
      "metadata": {
        "colab": {
          "base_uri": "https://localhost:8080/"
        },
        "id": "VexCcCks8kSs",
        "outputId": "bf47c636-4a6b-4194-acfc-9972aa22b0cd"
      },
      "outputs": [
        {
          "output_type": "stream",
          "name": "stdout",
          "text": [
            "Requirement already satisfied: pyspark in /usr/local/lib/python3.11/dist-packages (3.5.1)\n",
            "Requirement already satisfied: py4j==0.10.9.7 in /usr/local/lib/python3.11/dist-packages (from pyspark) (0.10.9.7)\n"
          ]
        }
      ],
      "source": [
        "!pip install pyspark"
      ]
    },
    {
      "cell_type": "code",
      "source": [
        "from pyspark.sql import SparkSession\n",
        "from pyspark.ml.classification import GBTClassifier, OneVsRest\n",
        "from pyspark.ml.feature import VectorAssembler, StringIndexer\n",
        "from pyspark.ml.evaluation import MulticlassClassificationEvaluator\n",
        "path=\"/content/iris.csv\"\n",
        "# Start Spark session\n",
        "spark = SparkSession.builder.appName(\"GBTClassifier-Multiclass\").getOrCreate()\n",
        "\n",
        "# Load dataset (replace with your path)\n",
        "iris = spark.read.csv(path, header=True, inferSchema=True)\n",
        "# Prepare features\n",
        "feature_cols = ['sepal_length', 'sepal_width', 'petal_length', 'petal_width']\n",
        "assembler = VectorAssembler(inputCols=feature_cols, outputCol=\"features\")\n",
        "iris = assembler.transform(iris)\n",
        "\n",
        "# Index labels\n",
        "indexer = StringIndexer(inputCol=\"species\", outputCol=\"label\")\n",
        "iris = indexer.fit(iris).transform(iris)\n",
        "\n",
        "# Train-test split\n",
        "train, test = iris.randomSplit([0.8, 0.2], seed=42)\n",
        "\n",
        "# Initialize GBTClassifier\n",
        "gbt = GBTClassifier(maxIter=20, maxDepth=3, stepSize=0.1)\n",
        "\n",
        "# Wrap in OneVsRest for multiclass\n",
        "ovr = OneVsRest(classifier=gbt)\n",
        "\n",
        "# Train\n",
        "model = ovr.fit(train)\n",
        "\n",
        "# Predict\n",
        "predictions = model.transform(test)\n",
        "\n",
        "# Evaluate\n",
        "evaluator = MulticlassClassificationEvaluator(metricName=\"accuracy\")\n",
        "accuracy = evaluator.evaluate(predictions)\n",
        "print(f\"Test Accuracy: {accuracy:.4f}\")\n",
        "\n",
        "spark.stop()"
      ],
      "metadata": {
        "colab": {
          "base_uri": "https://localhost:8080/"
        },
        "id": "GTfBuF1H9PUj",
        "outputId": "87ace884-c30f-4fb2-e2b6-a7a94e2ab60d"
      },
      "execution_count": 3,
      "outputs": [
        {
          "output_type": "stream",
          "name": "stdout",
          "text": [
            "Test Accuracy: 0.9583\n"
          ]
        }
      ]
    }
  ]
}