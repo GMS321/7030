{
  "nbformat": 4,
  "nbformat_minor": 0,
  "metadata": {
    "colab": {
      "provenance": []
    },
    "kernelspec": {
      "name": "python3",
      "display_name": "Python 3"
    },
    "language_info": {
      "name": "python"
    }
  },
  "cells": [
    {
      "cell_type": "code",
      "execution_count": 1,
      "metadata": {
        "colab": {
          "base_uri": "https://localhost:8080/"
        },
        "id": "ktyn89ReH2OV",
        "outputId": "10705acf-3d67-4807-ddd4-3943b4a8b2b0"
      },
      "outputs": [
        {
          "output_type": "stream",
          "name": "stdout",
          "text": [
            "Requirement already satisfied: pyspark in /usr/local/lib/python3.11/dist-packages (3.5.1)\n",
            "Requirement already satisfied: py4j==0.10.9.7 in /usr/local/lib/python3.11/dist-packages (from pyspark) (0.10.9.7)\n"
          ]
        }
      ],
      "source": [
        "# install pyspark\n",
        "!pip3 install pyspark"
      ]
    },
    {
      "cell_type": "code",
      "source": [
        "#initialize SparkSession and installed Required Libraries\n",
        "from pyspark.sql import SparkSession\n",
        "from pyspark.ml.feature import VectorAssembler, StandardScaler\n",
        "from pyspark.ml.regression import LinearRegression\n",
        "from pyspark.ml.evaluation import RegressionEvaluator\n",
        "\n",
        "# Initialize SparkSession\n",
        "spark = SparkSession.builder \\\n",
        "                    .appName(\"LinearRegression_spark\") \\\n",
        "                    .master(\"local[*]\") \\\n",
        "                    .config(\"spark.executor.memory\", \"4g\") \\\n",
        "                    .config(\"spark.driver.memory\", \"2g\") \\\n",
        "                    .config(\"spark.executor.cores\", \"2\") \\\n",
        "                    .config(\"spark.sql.inMemoryColumnarStorage.compressed\", \"true\") \\\n",
        "                    .getOrCreate()\n"
      ],
      "metadata": {
        "id": "8EbyHU6sIfgo"
      },
      "execution_count": 2,
      "outputs": []
    },
    {
      "cell_type": "code",
      "source": [
        "# Load the data from a CSV file\n",
        "df = spark.read.csv(\"/property.csv\", header=True, inferSchema=True)\n",
        "\n",
        "# get familiar with data"
      ],
      "metadata": {
        "id": "YhQWTHKiI4BX"
      },
      "execution_count": 5,
      "outputs": []
    },
    {
      "cell_type": "code",
      "source": [
        "# get familiar with data\n",
        "df.show()\n",
        "\n",
        "# more info\n",
        "print(\"Total Records\",df.count())\n",
        "print(\"Total Partitions \",df.rdd.getNumPartitions())"
      ],
      "metadata": {
        "colab": {
          "base_uri": "https://localhost:8080/"
        },
        "id": "Sqw8qfeAJ1bD",
        "outputId": "4c64a675-8fcc-454d-edca-995986779f4f"
      },
      "execution_count": 6,
      "outputs": [
        {
          "output_type": "stream",
          "name": "stdout",
          "text": [
            "+--------------+------------+-------------+----------+--------+------------------+\n",
            "|Square_Footage|Num_Bedrooms|Num_Bathrooms|Year_Built|Lot_Size|             Price|\n",
            "+--------------+------------+-------------+----------+--------+------------------+\n",
            "|          1360|           2|            3|      1953|    7860| 303948.1373854071|\n",
            "|          4272|           3|            3|      1997|    5292| 860386.2685075302|\n",
            "|          3592|           4|            1|      1983|    9723| 734389.7538956215|\n",
            "|           966|           6|            1|      1903|    4086| 226448.8070714377|\n",
            "|          4926|           6|            4|      1944|    1081|1022486.2616704078|\n",
            "|          3944|           6|            2|      1938|    3542| 845638.1354384426|\n",
            "|          3671|           2|            1|      1963|    5105| 748779.2192281872|\n",
            "|          3419|           4|            2|      1925|    5448| 743007.2614135538|\n",
            "|           630|           2|            2|      2012|    3204| 135656.4528785377|\n",
            "|          2185|           2|            2|      1921|    7191|480153.16300188465|\n",
            "|          1269|           4|            1|      1953|    9638| 273298.1781911301|\n",
            "|          2891|           6|            2|      1991|    4596|  602871.110555334|\n",
            "|          2933|           5|            1|      1966|    4958| 636462.8293225713|\n",
            "|          1684|           2|            3|      1950|    8724|397958.90799311374|\n",
            "|          3885|           5|            2|      2021|    4695| 810991.7677926597|\n",
            "|          4617|           3|            2|      1943|    1920| 949862.1850290807|\n",
            "|          3404|           2|            3|      1923|    4183| 689906.1306948366|\n",
            "|           974|           3|            2|      2018|    8034|   199985.65592338|\n",
            "|          1582|           1|            4|      1944|    8649| 330837.2755710519|\n",
            "|          3058|           1|            2|      1952|    2572| 604113.6363094774|\n",
            "+--------------+------------+-------------+----------+--------+------------------+\n",
            "only showing top 20 rows\n",
            "\n",
            "Total Records 1000000\n",
            "Total Partitions  2\n"
          ]
        }
      ]
    },
    {
      "cell_type": "code",
      "source": [
        "# check missing or null values for each column\n",
        "from pyspark.sql.functions import col,isnan, when, count\n",
        "df.select([count(when(isnan(c) | col(c).isNull(), c))\n",
        ".alias(c) for c in df.columns]).show()"
      ],
      "metadata": {
        "colab": {
          "base_uri": "https://localhost:8080/"
        },
        "id": "Bfs4WtTfJ6Rr",
        "outputId": "2960dce8-aa9b-4039-ba3b-42c56bbb2d18"
      },
      "execution_count": 7,
      "outputs": [
        {
          "output_type": "stream",
          "name": "stdout",
          "text": [
            "+--------------+------------+-------------+----------+--------+-----+\n",
            "|Square_Footage|Num_Bedrooms|Num_Bathrooms|Year_Built|Lot_Size|Price|\n",
            "+--------------+------------+-------------+----------+--------+-----+\n",
            "|             0|           0|            0|         0|       0|    0|\n",
            "+--------------+------------+-------------+----------+--------+-----+\n",
            "\n"
          ]
        }
      ]
    },
    {
      "cell_type": "code",
      "source": [
        "from pyspark.ml.feature import VectorAssembler\n",
        "assembler = VectorAssembler(inputCols = [\"Square_Footage\",\"Num_Bedrooms\",\"Num_Bathrooms\",\"Year_Built\",\"Lot_Size\"],\n",
        "                           outputCol = \"Features\")"
      ],
      "metadata": {
        "id": "PO8YbY_iKQXc"
      },
      "execution_count": 8,
      "outputs": []
    },
    {
      "cell_type": "code",
      "source": [
        "#StandardScaler\n",
        "scaler = StandardScaler(inputCol = \"Features\",\n",
        "                        outputCol = \"scaled_Features\")"
      ],
      "metadata": {
        "id": "Zft_umP9Nqtm"
      },
      "execution_count": 11,
      "outputs": []
    },
    {
      "cell_type": "code",
      "source": [
        "#create linear regression model.\n",
        "regressor = LinearRegression(labelCol = 'Price',\n",
        "                             featuresCol = 'scaled_Features'\n",
        "                             )"
      ],
      "metadata": {
        "id": "3oFp1QS7N-6X"
      },
      "execution_count": 13,
      "outputs": []
    },
    {
      "cell_type": "code",
      "source": [
        "from pyspark.ml import Pipeline\n",
        "pipeline  = Pipeline(stages = [assembler,scaler,regressor])\n",
        "#--Saving the Pipeline\n",
        "pipeline.write().overwrite().save(\"pipeline_LR1saved_model\")"
      ],
      "metadata": {
        "id": "q17O3FhMREqC"
      },
      "execution_count": 14,
      "outputs": []
    },
    {
      "cell_type": "code",
      "source": [
        "pipelineModel = Pipeline.load('./pipeline_LR1saved_model')"
      ],
      "metadata": {
        "id": "Y4fu1eiFR4-d"
      },
      "execution_count": 15,
      "outputs": []
    },
    {
      "cell_type": "code",
      "source": [
        "data_train , data_test = df.randomSplit([0.6,0.4], seed = 123)"
      ],
      "metadata": {
        "id": "gTZwiYckSRDM"
      },
      "execution_count": 16,
      "outputs": []
    },
    {
      "cell_type": "code",
      "source": [
        "Model = pipeline.fit(data_train)"
      ],
      "metadata": {
        "id": "WWLNV6PMTQ6d"
      },
      "execution_count": 17,
      "outputs": []
    },
    {
      "cell_type": "code",
      "source": [
        "print(\"total LR cofficents\",len(Model.stages[2].coefficients) )\n",
        "print(\"Cofficientents\",Model.stages[2].coefficients)\n",
        "print(\"Intecept\",Model.stages[2].intercept)"
      ],
      "metadata": {
        "colab": {
          "base_uri": "https://localhost:8080/"
        },
        "id": "pna64FexT0d1",
        "outputId": "45655831-abd7-4e4d-e540-d9763b70ebaf"
      },
      "execution_count": 18,
      "outputs": [
        {
          "output_type": "stream",
          "name": "stdout",
          "text": [
            "total LR cofficents 5\n",
            "Cofficientents [259896.92144676342,8498.23057121344,3369.7159054208514,-3494.9343577615205,251.5068548811221]\n",
            "Intecept 200721.1114282388\n"
          ]
        }
      ]
    },
    {
      "cell_type": "code",
      "source": [
        "#n the prediction phase, we test our model on some unseen data.\n",
        "pred = Model.transform(data_test)\n",
        "pred.select('prediction', 'Price').show(10, truncate = False)"
      ],
      "metadata": {
        "colab": {
          "base_uri": "https://localhost:8080/"
        },
        "id": "x2s3TmFrUKW1",
        "outputId": "95930104-43fa-496e-f8ef-3ce585f79cb5"
      },
      "execution_count": 20,
      "outputs": [
        {
          "output_type": "stream",
          "name": "stdout",
          "text": [
            "+------------------+------------------+\n",
            "|prediction        |Price             |\n",
            "+------------------+------------------+\n",
            "|118903.66598607796|108508.56360442274|\n",
            "|118117.98619074191|117632.63219959654|\n",
            "|109859.29636851994|106670.25438504865|\n",
            "|123571.35331775977|117919.45375887671|\n",
            "|112841.82931978161|119893.50473253023|\n",
            "|114487.60713844467|115218.14440379351|\n",
            "|125777.54987879253|142918.60554292126|\n",
            "|125373.82320041412|121701.09755089099|\n",
            "|121766.59370884892|95443.54011673816 |\n",
            "|115321.26527785618|111392.17048643339|\n",
            "+------------------+------------------+\n",
            "only showing top 10 rows\n",
            "\n"
          ]
        }
      ]
    },
    {
      "cell_type": "code",
      "source": [
        "#create linear regression model.\n",
        "Lasoregressor = LinearRegression(labelCol = 'Price',\n",
        "                             featuresCol = 'scaled_Features',\n",
        "                             elasticNetParam=1,\n",
        "                             regParam=0.1\n",
        "                             )\n",
        "Lasaopipeline  = Pipeline(stages = [assembler,scaler,Lasoregressor])\n",
        "LassoModel = Lasaopipeline.fit(data_train)"
      ],
      "metadata": {
        "id": "nFKAtAjRUco3"
      },
      "execution_count": 21,
      "outputs": []
    },
    {
      "cell_type": "code",
      "source": [
        "#n the prediction phase, we test our model on some unseen data.\n",
        "lassopred = LassoModel.transform(data_test)\n",
        "lassopred.select('prediction', 'Price').show(10, truncate = False)"
      ],
      "metadata": {
        "colab": {
          "base_uri": "https://localhost:8080/"
        },
        "id": "b6MnpfmcUpUl",
        "outputId": "7a013ef4-e728-4937-819f-8a2f6435ec9f"
      },
      "execution_count": 22,
      "outputs": [
        {
          "output_type": "stream",
          "name": "stdout",
          "text": [
            "+------------------+------------------+\n",
            "|prediction        |Price             |\n",
            "+------------------+------------------+\n",
            "|118904.12924656043|108508.56360442274|\n",
            "|118118.43251919253|117632.63219959654|\n",
            "|109859.95107379054|106670.25438504865|\n",
            "|123571.40064116461|117919.45375887671|\n",
            "|112842.2978842557 |119893.50473253023|\n",
            "|114488.2000695626 |115218.14440379351|\n",
            "|125777.61969897382|142918.60554292126|\n",
            "|125374.07409429025|121701.09755089099|\n",
            "|121766.77855961214|95443.54011673816 |\n",
            "|115321.92450432465|111392.17048643339|\n",
            "+------------------+------------------+\n",
            "only showing top 10 rows\n",
            "\n"
          ]
        }
      ]
    },
    {
      "cell_type": "code",
      "source": [
        "#create linear regression model.\n",
        "Ridgeregressor = LinearRegression(labelCol = 'Price',\n",
        "                             featuresCol = 'scaled_Features',\n",
        "                             elasticNetParam=0,\n",
        "                             regParam=0.1\n",
        "                             )\n",
        "Ridgepipeline  = Pipeline(stages = [assembler,scaler,Ridgeregressor])\n",
        "RidgeModel = Ridgepipeline.fit(data_train)\n",
        "#n the prediction phase, we test our model on some unseen data.\n",
        "Ridgepred = RidgeModel.transform(data_test)\n",
        "Ridgepred.select('prediction', 'Price').show(10, truncate = False)"
      ],
      "metadata": {
        "colab": {
          "base_uri": "https://localhost:8080/"
        },
        "id": "-FI15yJ4UxeF",
        "outputId": "a8b69b3b-5d0e-45ac-c476-cc6bbd281127"
      },
      "execution_count": 25,
      "outputs": [
        {
          "output_type": "stream",
          "name": "stdout",
          "text": [
            "+------------------+------------------+\n",
            "|prediction        |Price             |\n",
            "+------------------+------------------+\n",
            "|118903.84262771993|108508.56360442274|\n",
            "|118118.16325114852|117632.63219959654|\n",
            "|109859.47669391098|106670.25438504865|\n",
            "|123571.52913924109|117919.45375887671|\n",
            "|112842.00894015002|119893.50473253023|\n",
            "|114487.78576783142|115218.14440379351|\n",
            "|125777.72489368325|142918.60554292126|\n",
            "|125373.99774888915|121701.09755089099|\n",
            "|121766.77014555041|95443.54011673816 |\n",
            "|115321.44334531022|111392.17048643339|\n",
            "+------------------+------------------+\n",
            "only showing top 10 rows\n",
            "\n"
          ]
        }
      ]
    },
    {
      "cell_type": "code",
      "source": [
        "#Model Evaluation Spark Provides evaluation metrics\n",
        "#for regression and classification tasks.\n",
        "from pyspark.ml.evaluation import RegressionEvaluator\n",
        "evaluator_mse = RegressionEvaluator(labelCol =\n",
        "                                    'Price',\n",
        "                                    predictionCol =\n",
        "                                    'prediction',\n",
        "                                    metricName =\n",
        "                                    'mse')\n",
        "# calculate MSE\n",
        "mse1 = evaluator_mse.evaluate(pred)\n",
        "mselasso = evaluator_mse.evaluate(lassopred)\n",
        "mseridge = evaluator_mse.evaluate(Ridgepred)\n",
        "\n",
        "evaluator_rmse = RegressionEvaluator(labelCol =\n",
        "                                     'Price',\n",
        "                                     predictionCol =\n",
        "                                     'prediction',\n",
        "                                     metricName =\n",
        "                                     'rmse')\n",
        "# calculate RMSE\n",
        "rmse1 = evaluator_rmse.evaluate(pred)\n",
        "rmse2_lasso = evaluator_rmse.evaluate(lassopred)\n",
        "rmse3Ridge = evaluator_rmse.evaluate(Ridgepred)\n",
        "\n",
        "evaluator_r2 = RegressionEvaluator(labelCol = 'Price',\n",
        "                                   predictionCol = 'prediction',\n",
        "                                   metricName = 'r2')\n",
        "# calculate R_squared\n",
        "r2_score1 = evaluator_r2.evaluate(pred)\n",
        "r2_lasso = evaluator_r2.evaluate(lassopred)\n",
        "r2_ridge = evaluator_r2.evaluate(Ridgepred)\n",
        "# print the evaluation metrics\n",
        "print('Regression - MSE: ', mse1, ', RMSE: ', rmse1, ', R^2: ', r2_score1)\n",
        "print('Lasso - MSE: ', mselasso, ', RMSE: ', rmse2_lasso, ', R^2: ', r2_lasso)\n",
        "print('Ridge - MSE: ', mseridge, ', RMSE: ', rmse3Ridge, ', R^2: ', r2_ridge)"
      ],
      "metadata": {
        "colab": {
          "base_uri": "https://localhost:8080/"
        },
        "id": "el7pPNNEVg3x",
        "outputId": "d25ae48f-f572-4756-f12d-665e0af9ef1c"
      },
      "execution_count": 26,
      "outputs": [
        {
          "output_type": "stream",
          "name": "stdout",
          "text": [
            "Regression - MSE:  398755366.69280857 , RMSE:  19968.859924712993 , R^2:  0.9941201177581648\n",
            "Lasso - MSE:  398755402.4419496 , RMSE:  19968.86081983521 , R^2:  0.9941201172310227\n",
            "Ridge - MSE:  398755368.49370754 , RMSE:  19968.859969805675 , R^2:  0.9941201177316095\n"
          ]
        }
      ]
    },
    {
      "cell_type": "code",
      "source": [
        "# plot\n",
        "import matplotlib.pyplot as plt\n",
        "import numpy as np\n",
        "\n",
        "mse = [mse1, mselasso, mseridge]\n",
        "rmse = [rmse1, rmse2_lasso, rmse3Ridge]\n",
        "r2_score = [r2_score1, rmse2_lasso, r2_ridge]\n",
        "\n",
        "positions = np.arange(len(mse))\n",
        "bar_width = 0.2\n",
        "\n",
        "plt.bar(positions - bar_width, mse, width = bar_width, label = 'MSE')\n",
        "plt.bar(positions, rmse, width = bar_width, label = 'RMSE')\n",
        "plt.bar(positions + bar_width, r2_score, width = bar_width, label = 'R2_Score')\n",
        "\n",
        "# adding labels and title\n",
        "plt.xlabel('Model')\n",
        "plt.ylabel('Scores')\n",
        "plt.title('Comparison of Regression Metrics')\n",
        "\n",
        "# adding the legend\n",
        "plt.legend()\n",
        "plt.xticks(positions, ['Regression', 'Lasso', 'Ridge'])\n",
        "plt.show()"
      ],
      "metadata": {
        "colab": {
          "base_uri": "https://localhost:8080/",
          "height": 472
        },
        "id": "yRDD7Je8WfhE",
        "outputId": "eeee54d5-bca5-4e0f-b945-6774693801b3"
      },
      "execution_count": 27,
      "outputs": [
        {
          "output_type": "display_data",
          "data": {
            "text/plain": [
              "<Figure size 640x480 with 1 Axes>"
            ],
            "image/png": "[encoded data removed]"
          },
          "metadata": {}
        }
      ]
    }
  ]
}