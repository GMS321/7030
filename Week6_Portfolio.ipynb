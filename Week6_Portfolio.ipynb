{
  "nbformat": 4,
  "nbformat_minor": 0,
  "metadata": {
    "colab": {
      "provenance": []
    },
    "kernelspec": {
      "name": "python3",
      "display_name": "Python 3"
    },
    "language_info": {
      "name": "python"
    }
  },
  "cells": [
    {
      "cell_type": "code",
      "execution_count": null,
      "metadata": {
        "id": "WtEa4aJ_G3h9"
      },
      "outputs": [],
      "source": []
    },
    {
      "cell_type": "markdown",
      "source": [
        "# Simple Implementation of Ensemble Learning Based Spark"
      ],
      "metadata": {
        "id": "IJ04B6_5G4Dc"
      }
    },
    {
      "cell_type": "markdown",
      "source": [
        "Over the years, Machine Learning  has become crucial for extracting valuable insights from large amounts of data.There are large data setsused in the big tech companies and they usually develop distributed machine learning platforms to provide better efficent machine learning services proficiency.The recent ensemble learning is taking high time cost, unable to match large scale datasets because of slow hardware performance.\n",
        "\n",
        "The solution for this is distributed Ensembling Learning as it reduces time cost and is very effective for large datasets.\n",
        "The paper show the usage of decision tree that implements bagging and boosting algorithms to the distributed computing engine spark.training a random forest model on large customer data to improve personalized recommendations—doing this on one computer could take days, but distributing the task across many servers cuts the time drastically.\n",
        "\n",
        "Experiments conducted on various datasets and cluster sizes showed that while the models accuracy measured by F1-score remains stable, the runtime decreases almost linearly as more computing nodes are added.\n",
        "\n",
        "This means the distributed approach can process much larger datasets quickly without compromising performance. It's like scaling up from a single chef cooking a large meal to a whole kitchen team working together—getting the job done faster but with the same quality. Such scalable machine learning solutions are important for industries like finance, healthcare, and e-commerce, where analyzing big data quickly and accurately is essential.\n",
        "\n"
      ],
      "metadata": {
        "id": "mZI5zpDOHMeX"
      }
    }
  ]
}