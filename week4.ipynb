{
  "nbformat": 4,
  "nbformat_minor": 0,
  "metadata": {
    "colab": {
      "provenance": []
    },
    "kernelspec": {
      "name": "python3",
      "display_name": "Python 3"
    },
    "language_info": {
      "name": "python"
    }
  },
  "cells": [
    {
      "cell_type": "code",
      "execution_count": null,
      "metadata": {
        "colab": {
          "base_uri": "https://localhost:8080/"
        },
        "id": "1u2fssalU_qr",
        "outputId": "7f01d998-05f4-471b-9d16-1b5a1271723c"
      },
      "outputs": [
        {
          "output_type": "stream",
          "name": "stdout",
          "text": [
            "Requirement already satisfied: pyspark in /usr/local/lib/python3.11/dist-packages (3.5.1)\n",
            "Requirement already satisfied: py4j==0.10.9.7 in /usr/local/lib/python3.11/dist-packages (from pyspark) (0.10.9.7)\n"
          ]
        }
      ],
      "source": [
        "!pip install pyspark"
      ]
    },
    {
      "cell_type": "code",
      "source": [
        "from pyspark.sql import SparkSession\n",
        "\n",
        "spark = SparkSession \\\n",
        "    .builder \\\n",
        "    .appName(\"Python Spark SQL basic example\") \\\n",
        "    .config(\"spark.some.config.option\", \"some-value\") \\\n",
        "    .getOrCreate()\n"
      ],
      "metadata": {
        "id": "4LkfSGYeVg3q"
      },
      "execution_count": null,
      "outputs": []
    },
    {
      "cell_type": "code",
      "source": [
        "from google.colab import drive\n",
        "drive.mount('/content/drive')"
      ],
      "metadata": {
        "colab": {
          "base_uri": "https://localhost:8080/"
        },
        "id": "5eIj_Or4Vqnh",
        "outputId": "19b3fea2-3974-4d8b-fa64-1361a2f3385f"
      },
      "execution_count": null,
      "outputs": [
        {
          "output_type": "stream",
          "name": "stdout",
          "text": [
            "Mounted at /content/drive\n"
          ]
        }
      ]
    },
    {
      "cell_type": "code",
      "source": [
        "dataset = spark.read.csv('/content/titanic_synthetic_data (1).csv',inferSchema=True, header =True)"
      ],
      "metadata": {
        "id": "fMBTtCB1Vx5p"
      },
      "execution_count": null,
      "outputs": []
    },
    {
      "cell_type": "code",
      "source": [
        "dataset.columns"
      ],
      "metadata": {
        "colab": {
          "base_uri": "https://localhost:8080/"
        },
        "id": "0nB2cN5vWQWT",
        "outputId": "7f8365d9-aca7-4fe1-a151-9eee312106aa"
      },
      "execution_count": null,
      "outputs": [
        {
          "output_type": "execute_result",
          "data": {
            "text/plain": [
              "['Pclass',\n",
              " 'Age',\n",
              " 'SibSp',\n",
              " 'Parch',\n",
              " 'Fare',\n",
              " 'Sex',\n",
              " 'Survived',\n",
              " 'Embarked_Q',\n",
              " 'Embarked_S']"
            ]
          },
          "metadata": {},
          "execution_count": 77
        }
      ]
    },
    {
      "cell_type": "code",
      "source": [
        "dataset.describe().select(\"Pclass\",\"Age\",\"SibSp\",\"Parch\",\"Fare\").show()"
      ],
      "metadata": {
        "colab": {
          "base_uri": "https://localhost:8080/"
        },
        "id": "K3AOvE-loTQ_",
        "outputId": "a0b55382-35de-4aee-f517-19fe7f4cc7be"
      },
      "execution_count": null,
      "outputs": [
        {
          "output_type": "stream",
          "name": "stdout",
          "text": [
            "+------------------+------------------+------------------+------------------+------------------+\n",
            "|            Pclass|               Age|             SibSp|             Parch|              Fare|\n",
            "+------------------+------------------+------------------+------------------+------------------+\n",
            "|           1000000|           1000000|           1000000|           1000000|           1000000|\n",
            "|          1.999411|         39.517847|          4.500906|          4.497493| 254.9829083944402|\n",
            "|0.8168263709530482|23.092708389398037|2.8714427426552285|2.8728101169393594|141.53963219142216|\n",
            "|                 1|                 0|                 0|                 0|10.000191449724019|\n",
            "|                 3|                79|                 9|                 9| 499.9999338139367|\n",
            "+------------------+------------------+------------------+------------------+------------------+\n",
            "\n"
          ]
        }
      ]
    },
    {
      "cell_type": "code",
      "source": [
        "dataset.describe().select(\"Sex\",\"Survived\",\"Embarked_Q\",\"Embarked_S\").show()"
      ],
      "metadata": {
        "colab": {
          "base_uri": "https://localhost:8080/"
        },
        "id": "RzkyQGhSofb4",
        "outputId": "52b4c3c9-e828-42fe-9f51-2df3812a29f3"
      },
      "execution_count": null,
      "outputs": [
        {
          "output_type": "stream",
          "name": "stdout",
          "text": [
            "+------------------+------------------+-------------------+------------------+\n",
            "|               Sex|          Survived|         Embarked_Q|        Embarked_S|\n",
            "+------------------+------------------+-------------------+------------------+\n",
            "|           1000000|           1000000|            1000000|           1000000|\n",
            "|           0.50082|           0.49987|           0.332717|          0.333661|\n",
            "|0.4999995775993916|0.5000002331001768|0.47118639616145436|0.4715204761307361|\n",
            "|                 0|                 0|                  0|                 0|\n",
            "|                 1|                 1|                  1|                 1|\n",
            "+------------------+------------------+-------------------+------------------+\n",
            "\n"
          ]
        }
      ]
    },
    {
      "cell_type": "code",
      "source": [
        "from pyspark.sql.functions import col,isnan, when, count\n",
        "dataset.select([count(when(isnan(c) | col(c).isNull(), c)).alias(c) for c in dataset.columns]\n",
        "   ).show()"
      ],
      "metadata": {
        "colab": {
          "base_uri": "https://localhost:8080/"
        },
        "id": "DKjWgsovXN7F",
        "outputId": "2c307901-c80f-42eb-f3ee-c1755a5da5ab"
      },
      "execution_count": null,
      "outputs": [
        {
          "output_type": "stream",
          "name": "stdout",
          "text": [
            "+------+---+-----+-----+----+---+--------+----------+----------+\n",
            "|Pclass|Age|SibSp|Parch|Fare|Sex|Survived|Embarked_Q|Embarked_S|\n",
            "+------+---+-----+-----+----+---+--------+----------+----------+\n",
            "|     0|  0|    0|    0|   0|  0|       0|         0|         0|\n",
            "+------+---+-----+-----+----+---+--------+----------+----------+\n",
            "\n"
          ]
        }
      ]
    },
    {
      "cell_type": "code",
      "source": [
        "\n",
        "#impute\n",
        "from pyspark.ml.feature import Imputer\n",
        "imputer=Imputer(inputCols=[\"Pclass\",\"Age\",\"SibSp\",\"Parch\",\"Fare\",\"Sex\",\"Survived\",\"Embarked_Q\",\"Embarked_S\"],outputCols=[\"Pclass\",\"Age\",\"SibSp\",\"Parch\",\"Fare\",\"Sex\",\"Survived\",\"Embarked_Q\",\"Embarked_S\"])\n",
        "model=imputer.fit(dataset)\n",
        "dataset=model.transform(dataset)\n",
        "dataset.show(5)"
      ],
      "metadata": {
        "colab": {
          "base_uri": "https://localhost:8080/"
        },
        "id": "HYscgxKGZn5e",
        "outputId": "ecd95bb7-a98a-4069-ce5f-82fbe49a23a5"
      },
      "execution_count": null,
      "outputs": [
        {
          "output_type": "stream",
          "name": "stdout",
          "text": [
            "+------+---+-----+-----+------------------+---+--------+----------+----------+\n",
            "|Pclass|Age|SibSp|Parch|              Fare|Sex|Survived|Embarked_Q|Embarked_S|\n",
            "+------+---+-----+-----+------------------+---+--------+----------+----------+\n",
            "|     3| 42|    6|    7|397.00178367782024|  0|       0|         0|         1|\n",
            "|     1| 52|    6|    7|302.12770032784186|  0|       0|         1|         0|\n",
            "|     3| 25|    3|    8| 427.1058765283985|  1|       1|         1|         0|\n",
            "|     3| 32|    9|    7| 326.8049924602327|  1|       0|         0|         0|\n",
            "|     1| 40|    0|    5|17.718838497771657|  0|       0|         0|         0|\n",
            "+------+---+-----+-----+------------------+---+--------+----------+----------+\n",
            "only showing top 5 rows\n",
            "\n"
          ]
        }
      ]
    },
    {
      "cell_type": "code",
      "source": [
        "#us combine all the features in one single feature vector.\n",
        "cols=dataset.columns\n",
        "cols.remove(\"Survived\")\n",
        "cols.remove(\"Fare\")\n",
        "# Let us import the vector assembler\n",
        "from pyspark.ml.feature import VectorAssembler\n",
        "assembler = VectorAssembler(inputCols=cols,outputCol=\"features\")\n",
        "# Now let us use the transform method to transform our dataset\n",
        "dataset=assembler.transform(dataset)\n",
        "dataset.select(\"features\").show(truncate=False)"
      ],
      "metadata": {
        "colab": {
          "base_uri": "https://localhost:8080/"
        },
        "id": "mvPEw2aFage4",
        "outputId": "3b38f1cd-039c-43da-b28b-488caed334e3"
      },
      "execution_count": null,
      "outputs": [
        {
          "output_type": "stream",
          "name": "stdout",
          "text": [
            "+------------------------------+\n",
            "|features                      |\n",
            "+------------------------------+\n",
            "|[3.0,42.0,6.0,7.0,0.0,0.0,1.0]|\n",
            "|[1.0,52.0,6.0,7.0,0.0,1.0,0.0]|\n",
            "|[3.0,25.0,3.0,8.0,1.0,1.0,0.0]|\n",
            "|[3.0,32.0,9.0,7.0,1.0,0.0,0.0]|\n",
            "|(7,[0,1,3],[1.0,40.0,5.0])    |\n",
            "|[1.0,20.0,7.0,2.0,0.0,0.0,0.0]|\n",
            "|[3.0,76.0,4.0,9.0,0.0,1.0,0.0]|\n",
            "|[2.0,22.0,4.0,7.0,1.0,0.0,0.0]|\n",
            "|[3.0,78.0,4.0,8.0,1.0,0.0,0.0]|\n",
            "|[3.0,15.0,1.0,8.0,1.0,1.0,0.0]|\n",
            "|[3.0,68.0,8.0,7.0,1.0,0.0,1.0]|\n",
            "|[3.0,3.0,7.0,1.0,0.0,1.0,0.0] |\n",
            "|[1.0,63.0,4.0,0.0,1.0,0.0,0.0]|\n",
            "|[3.0,0.0,9.0,8.0,0.0,0.0,1.0] |\n",
            "|[2.0,62.0,3.0,4.0,1.0,0.0,0.0]|\n",
            "|[1.0,41.0,2.0,8.0,1.0,0.0,1.0]|\n",
            "|[2.0,40.0,4.0,2.0,1.0,0.0,1.0]|\n",
            "|[2.0,64.0,0.0,4.0,0.0,0.0,1.0]|\n",
            "|[2.0,67.0,3.0,6.0,0.0,0.0,0.0]|\n",
            "|[2.0,35.0,0.0,1.0,1.0,0.0,0.0]|\n",
            "+------------------------------+\n",
            "only showing top 20 rows\n",
            "\n"
          ]
        }
      ]
    },
    {
      "cell_type": "code",
      "source": [
        "#Standard Sclarizer\n",
        "from pyspark.ml.feature import StandardScaler\n",
        "standardscaler=StandardScaler().setInputCol(\"features\").setOutputCol(\"Scaled_features\")\n",
        "dataset=standardscaler.fit(dataset).transform(dataset)\n",
        "dataset.select(\"features\",\"Scaled_features\").show(5)"
      ],
      "metadata": {
        "colab": {
          "base_uri": "https://localhost:8080/"
        },
        "id": "3xRiVhf4bNgZ",
        "outputId": "07ba3d3d-9779-4e47-cb01-b2e2ba0cb80f"
      },
      "execution_count": null,
      "outputs": [
        {
          "output_type": "stream",
          "name": "stdout",
          "text": [
            "+--------------------+--------------------+\n",
            "|            features|     Scaled_features|\n",
            "+--------------------+--------------------+\n",
            "|[3.0,42.0,6.0,7.0...|[3.67275115824148...|\n",
            "|[1.0,52.0,6.0,7.0...|[1.22425038608049...|\n",
            "|[3.0,25.0,3.0,8.0...|[3.67275115824148...|\n",
            "|[3.0,32.0,9.0,7.0...|[3.67275115824148...|\n",
            "|(7,[0,1,3],[1.0,4...|(7,[0,1,3],[1.224...|\n",
            "+--------------------+--------------------+\n",
            "only showing top 5 rows\n",
            "\n"
          ]
        }
      ]
    },
    {
      "cell_type": "code",
      "source": [
        "\n",
        "# convert categorical column into numbers\n",
        "from pyspark.ml.feature import StringIndexer\n",
        "indexer = StringIndexer(inputCol = 'sex', outputCol = 'gender')\n",
        "#df = indexer.fit(df).transform(df)\n",
        "#df.show(30)"
      ],
      "metadata": {
        "id": "nPF5-ScBbaT4"
      },
      "execution_count": null,
      "outputs": []
    },
    {
      "cell_type": "code",
      "source": [
        "#Standard Sclarizer\n",
        "#The scaling has already been done in a previous cell.\n",
        "#Displaying the features and scaled features.\n",
        "dataset.select(\"features\",\"Scaled_features\").show(5)"
      ],
      "metadata": {
        "colab": {
          "base_uri": "https://localhost:8080/"
        },
        "id": "jpxgFqL_idKJ",
        "outputId": "a312d4e4-0123-4a42-b035-105415229f81"
      },
      "execution_count": null,
      "outputs": [
        {
          "output_type": "stream",
          "name": "stdout",
          "text": [
            "+--------------------+--------------------+\n",
            "|            features|     Scaled_features|\n",
            "+--------------------+--------------------+\n",
            "|[3.0,42.0,6.0,7.0...|[3.67275115824148...|\n",
            "|[1.0,52.0,6.0,7.0...|[1.22425038608049...|\n",
            "|[3.0,25.0,3.0,8.0...|[3.67275115824148...|\n",
            "|[3.0,32.0,9.0,7.0...|[3.67275115824148...|\n",
            "|(7,[0,1,3],[1.0,4...|(7,[0,1,3],[1.224...|\n",
            "+--------------------+--------------------+\n",
            "only showing top 5 rows\n",
            "\n"
          ]
        }
      ]
    },
    {
      "cell_type": "code",
      "source": [
        "#Train, test split\n",
        "train, test = dataset.randomSplit([0.8, 0.2], seed=12345)"
      ],
      "metadata": {
        "id": "7iL4QA41ii8w"
      },
      "execution_count": null,
      "outputs": []
    },
    {
      "cell_type": "code",
      "source": [
        "#imbalance in the dataset, observe the use of Where\n",
        "dataset_size=float(train.select(\"Embarked_S\").count())\n",
        "numPositives=train.select(\"Embarked_S\").where('Embarked_S== 1').count()\n",
        "per_ones=(float(numPositives)/float(dataset_size))*100\n",
        "numNegatives=float(dataset_size-numPositives)\n",
        "print('The number of ones are {}'.format(numPositives))\n",
        "print('Percentage of ones are {}'.format(per_ones))"
      ],
      "metadata": {
        "colab": {
          "base_uri": "https://localhost:8080/"
        },
        "id": "VPA4V-wJimXA",
        "outputId": "d0e698b2-a146-4c31-9ee2-604cf71312a9"
      },
      "execution_count": null,
      "outputs": [
        {
          "output_type": "stream",
          "name": "stdout",
          "text": [
            "The number of ones are 267042\n",
            "Percentage of ones are 33.37007212800096\n"
          ]
        }
      ]
    },
    {
      "cell_type": "code",
      "source": [
        "BalancingRatio= numNegatives/dataset_size\n",
        "print('BalancingRatio = {}'.format(BalancingRatio))"
      ],
      "metadata": {
        "colab": {
          "base_uri": "https://localhost:8080/"
        },
        "id": "pgm7Q1ZRjBIa",
        "outputId": "1b3fd69f-43fb-4d6b-efe8-1826010477ab"
      },
      "execution_count": null,
      "outputs": [
        {
          "output_type": "stream",
          "name": "stdout",
          "text": [
            "BalancingRatio = 0.6662992787199904\n"
          ]
        }
      ]
    },
    {
      "cell_type": "code",
      "source": [
        "# balance\n",
        "train=train.withColumn(\"classWeights\", when(train.Survived == 1,BalancingRatio).otherwise(1-BalancingRatio))\n",
        "train.select(\"classWeights\").show(5)"
      ],
      "metadata": {
        "colab": {
          "base_uri": "https://localhost:8080/"
        },
        "id": "TWI6dQR5jCiK",
        "outputId": "ccc75a21-fac5-4219-b241-b9d55e25244a"
      },
      "execution_count": null,
      "outputs": [
        {
          "output_type": "stream",
          "name": "stdout",
          "text": [
            "+------------------+\n",
            "|      classWeights|\n",
            "+------------------+\n",
            "|0.3337007212800096|\n",
            "|0.3337007212800096|\n",
            "|0.6662992787199904|\n",
            "|0.6662992787199904|\n",
            "|0.6662992787199904|\n",
            "+------------------+\n",
            "only showing top 5 rows\n",
            "\n"
          ]
        }
      ]
    },
    {
      "cell_type": "code",
      "source": [
        " #Feature selection\n",
        "# Feature selection using chisquareSelector\n",
        "from pyspark.ml.feature import ChiSqSelector\n",
        "css = ChiSqSelector(featuresCol='Scaled_features',outputCol='Aspect',labelCol='Embarked_S',fpr=0.05)\n",
        "train=css.fit(train).transform(train)\n",
        "test=css.fit(test).transform(test)\n",
        "test.select(\"Aspect\").show(5,truncate=False)"
      ],
      "metadata": {
        "colab": {
          "base_uri": "https://localhost:8080/"
        },
        "id": "ZOb1iOz9mPyW",
        "outputId": "c82e6159-d8ad-4946-efed-0ac4d6973876"
      },
      "execution_count": null,
      "outputs": [
        {
          "output_type": "stream",
          "name": "stdout",
          "text": [
            "+-----------------------------------------------------------------------+\n",
            "|Aspect                                                                 |\n",
            "+-----------------------------------------------------------------------+\n",
            "|(7,[0,4,5],[1.2242503860804963,2.0000016896038306,2.1223023587831746]) |\n",
            "|(7,[0,3,5],[1.2242503860804963,0.34809122750702337,2.1223023587831746])|\n",
            "|(7,[0,3,6],[1.2242503860804963,0.34809122750702337,2.120798672850694]) |\n",
            "|(7,[0,3,4],[1.2242503860804963,0.34809122750702337,2.0000016896038306])|\n",
            "|(7,[0,3],[1.2242503860804963,0.34809122750702337])                     |\n",
            "+-----------------------------------------------------------------------+\n",
            "only showing top 5 rows\n",
            "\n"
          ]
        }
      ]
    },
    {
      "cell_type": "code",
      "source": [
        "#Building a classification model using Logistic Regression (LR)\n",
        "from pyspark.ml.classification import LogisticRegression\n",
        "\n",
        "# Select the necessary columns for Logistic Regression\n",
        "train_for_lr = train.select(\"Survived\", \"Aspect\", \"classWeights\")\n",
        "test_for_lr = test.select(\"Survived\", \"Aspect\") # classWeights is not needed for prediction\n",
        "\n",
        "lr = LogisticRegression(labelCol=\"Survived\", featuresCol=\"Aspect\",weightCol=\"classWeights\",maxIter=10)\n",
        "model=lr.fit(train_for_lr) # Fit on the DataFrame with selected columns\n",
        "predict_train=model.transform(train_for_lr)\n",
        "predict_test=model.transform(test_for_lr)\n",
        "predict_test.select(\"Survived\",\"prediction\").show(10)"
      ],
      "metadata": {
        "colab": {
          "base_uri": "https://localhost:8080/"
        },
        "id": "OXw4oUP_tbIe",
        "outputId": "45227353-a30b-45fc-9b56-53ab0385e942"
      },
      "execution_count": null,
      "outputs": [
        {
          "output_type": "stream",
          "name": "stdout",
          "text": [
            "+--------+----------+\n",
            "|Survived|prediction|\n",
            "+--------+----------+\n",
            "|       0|       1.0|\n",
            "|       0|       1.0|\n",
            "|       1|       1.0|\n",
            "|       1|       1.0|\n",
            "|       1|       1.0|\n",
            "|       0|       1.0|\n",
            "|       0|       1.0|\n",
            "|       1|       1.0|\n",
            "|       1|       1.0|\n",
            "|       1|       1.0|\n",
            "+--------+----------+\n",
            "only showing top 10 rows\n",
            "\n"
          ]
        }
      ]
    },
    {
      "cell_type": "code",
      "source": [
        "#Evaluating the model\n",
        "from pyspark.ml.evaluation import BinaryClassificationEvaluator\n",
        "\n",
        "evaluator=BinaryClassificationEvaluator(rawPredictionCol='rawPrediction',labelCol=\"Survived\")\n",
        "# We have only two choices: area under ROC and PR curves :-(\n",
        "auroc = evaluator.evaluate(predict_test, {evaluator.metricName: \"areaUnderROC\"})\n",
        "\n",
        "print(\"Area under ROC Curve: {:.4f}\".format(auroc))\n",
        "\n",
        "# Note: The 'Outcome' column does not exist in predict_test.\n",
        "# Displaying 'Survived', 'prediction', and 'probability' instead.\n",
        "predict_test.select(\"Survived\",\"prediction\",\"probability\").show(15)"
      ],
      "metadata": {
        "colab": {
          "base_uri": "https://localhost:8080/"
        },
        "id": "0cBLECXbudLw",
        "outputId": "6ddfaeed-6419-4303-cdfe-413fa74620b6"
      },
      "execution_count": null,
      "outputs": [
        {
          "output_type": "stream",
          "name": "stdout",
          "text": [
            "Area under ROC Curve: 0.5000\n",
            "+--------+----------+--------------------+\n",
            "|Survived|prediction|         probability|\n",
            "+--------+----------+--------------------+\n",
            "|       0|       1.0|[0.33620588319582...|\n",
            "|       0|       1.0|[0.33540299766233...|\n",
            "|       1|       1.0|[0.33455201079893...|\n",
            "|       1|       1.0|[0.33570750353833...|\n",
            "|       1|       1.0|[0.33492347724148...|\n",
            "|       0|       1.0|[0.33568921281157...|\n",
            "|       0|       1.0|[0.33531732527594...|\n",
            "|       1|       1.0|[0.33615097225607...|\n",
            "|       1|       1.0|[0.33534815160660...|\n",
            "|       1|       1.0|[0.33613266959330...|\n",
            "|       1|       1.0|[0.33534815160660...|\n",
            "|       1|       1.0|[0.33532987057550...|\n",
            "|       0|       1.0|[0.33563434358940...|\n",
            "|       0|       1.0|[0.33532987057550...|\n",
            "|       1|       1.0|[0.33611436742252...|\n",
            "+--------+----------+--------------------+\n",
            "only showing top 15 rows\n",
            "\n"
          ]
        }
      ]
    },
    {
      "cell_type": "code",
      "source": [
        "print(model.summary)\n",
        "import matplotlib.pyplot as plt\n",
        "pr = model.summary.pr.toPandas()\n",
        "plt.plot(pr['recall'],pr['precision'])\n",
        "plt.ylabel('Precision')\n",
        "plt.xlabel('Recall')\n",
        "plt.show()\n",
        "print(\"Model Accuracy\",model.summary.accuracy)\n",
        "print(\"FP rate\",model.summary.falsePositiveRateByLabel)\n",
        "print(\"TR rate\",model.summary.truePositiveRateByLabel)"
      ],
      "metadata": {
        "colab": {
          "base_uri": "https://localhost:8080/",
          "height": 518
        },
        "id": "7bIjjNWUuxKR",
        "outputId": "9615e88e-b734-42c8-e428-631b09f8f3af"
      },
      "execution_count": null,
      "outputs": [
        {
          "output_type": "stream",
          "name": "stdout",
          "text": [
            "<pyspark.ml.classification.BinaryLogisticRegressionTrainingSummary object at 0x7f2e74dc0150>\n"
          ]
        },
        {
          "output_type": "display_data",
          "data": {
            "text/plain": [
              "<Figure size 640x480 with 1 Axes>"
            ],
            "image/png": "[encoded data removed]"
          },
          "metadata": {}
        },
        {
          "output_type": "stream",
          "name": "stdout",
          "text": [
            "Model Accuracy 0.6659958020796684\n",
            "FP rate [0.0, 1.0]\n",
            "TR rate [0.0, 1.0]\n"
          ]
        }
      ]
    },
    {
      "cell_type": "code",
      "source": [
        "# Calculate confusion matrix components using Spark DataFrame operations\n",
        "tp = predict_test.filter(\"Survived = 1 AND prediction = 1\").count()\n",
        "fp = predict_test.filter(\"Survived = 0 AND prediction = 1\").count()\n",
        "tn = predict_test.filter(\"Survived = 0 AND prediction = 0\").count()\n",
        "fn = predict_test.filter(\"Survived = 1 AND prediction = 0\").count()\n",
        "\n",
        "print(\"Confusion Matrix:\")\n",
        "print(f\"True Positives (TP): {tp}\")\n",
        "print(f\"False Positives (FP): {fp}\")\n",
        "print(f\"True Negatives (TN): {tn}\")\n",
        "print(f\"False Negatives (FN): {fn}\")\n",
        "\n",
        "# Optional: Calculate Precision, Recall, F1-Score from these values\n",
        "precision = tp / (tp + fp) if (tp + fp) > 0 else 0\n",
        "recall = tp / (tp + fn) if (tp + fn) > 0 else 0\n",
        "f1 = 2 * (precision * recall) / (precision + recall) if (precision + recall) > 0 else 0\n",
        "\n",
        "print(f\"\\nPrecision: {precision:.4f}\")\n",
        "print(f\"Recall: {recall:.4f}\")\n",
        "print(f\"F1-Score: {f1:.4f}\")"
      ],
      "metadata": {
        "colab": {
          "base_uri": "https://localhost:8080/"
        },
        "id": "MAzoLdacvAkg",
        "outputId": "8d0ab031-daa1-4a47-da25-dc44d09fa447"
      },
      "execution_count": null,
      "outputs": [
        {
          "output_type": "stream",
          "name": "stdout",
          "text": [
            "Confusion Matrix:\n",
            "True Positives (TP): 100021\n",
            "False Positives (FP): 99735\n",
            "True Negatives (TN): 0\n",
            "False Negatives (FN): 0\n",
            "\n",
            "Precision: 0.5007\n",
            "Recall: 1.0000\n",
            "F1-Score: 0.6673\n"
          ]
        }
      ]
    },
    {
      "cell_type": "code",
      "source": [
        "import seaborn as sns\n",
        "import matplotlib.pyplot as plt\n",
        "import numpy as np\n",
        "\n",
        "TN = tn\n",
        "FP = fp\n",
        "FN = fn\n",
        "TP = tp\n",
        "conf_matrix = np.array([[TN, FP],\n",
        "                        [FN, TP]])\n",
        "labels = [\"Negative (0)\", \"Positive (1)\"]\n",
        "\n",
        "plt.figure(figsize=(6, 5))\n",
        "sns.heatmap(conf_matrix, annot=True,  cmap=\"Blues\",\n",
        "            xticklabels=labels, yticklabels=labels)\n",
        "plt.xlabel(\"Predicted Label\")\n",
        "plt.ylabel(\"True Label\")\n",
        "plt.title(\"Confusion Matrix\")\n",
        "plt.show()"
      ],
      "metadata": {
        "colab": {
          "base_uri": "https://localhost:8080/",
          "height": 487
        },
        "id": "H4vcKMYuvqkJ",
        "outputId": "6e82709f-3565-4ec5-f314-6d5226bf4a8e"
      },
      "execution_count": null,
      "outputs": [
        {
          "output_type": "display_data",
          "data": {
            "text/plain": [
              "<Figure size 600x500 with 2 Axes>"
            ],
            "image/png": "[encoded data removed]"
          },
          "metadata": {}
        }
      ]
    },
    {
      "cell_type": "code",
      "source": [
        "precision = TP / (TP + FP) if (TP + FP) > 0 else 0\n",
        "recall = TP / (TP + FN) if (TP + FN) > 0 else 0\n",
        "f1_score = 2 * (precision * recall) / (precision + recall) if (precision + recall) > 0 else 0\n",
        "\n",
        "print(f\"Precision: {precision:.4f}\")\n",
        "print(f\"Recall:    {recall:.4f}\")\n",
        "print(f\"F1-score:  {f1_score:.4f}\")"
      ],
      "metadata": {
        "colab": {
          "base_uri": "https://localhost:8080/"
        },
        "id": "JG8Csd2zv5gB",
        "outputId": "2d462f14-da9e-4edd-f4b8-1f50a950ab37"
      },
      "execution_count": null,
      "outputs": [
        {
          "output_type": "stream",
          "name": "stdout",
          "text": [
            "Precision: 0.5007\n",
            "Recall:    1.0000\n",
            "F1-score:  0.6673\n"
          ]
        }
      ]
    },
    {
      "cell_type": "markdown",
      "source": [
        "The Titanic Dataset is used here for binary classification and I have performed the data analysis to check if the data is imbalance  and apply the imbalance remedy. I got the BalancingRatio = 0.6662992787199904.\n",
        "Model Accuracy 0.6659958020796684\n",
        "FP rate [0.0, 1.0]\n",
        "TR rate [0.0, 1.0]\n",
        "\n",
        "Confusion Matrix:\n",
        "True Positives (TP): 100021\n",
        "False Positives (FP): 99735\n",
        "True Negatives (TN): 0\n",
        "False Negatives (FN): 0\n",
        "\n",
        "Precision: 0.5007\n",
        "Recall: 1.0000\n",
        "F1-Score: 0.6673\n"
      ],
      "metadata": {
        "id": "zeWKLzrpObtt"
      }
    }
  ]
}