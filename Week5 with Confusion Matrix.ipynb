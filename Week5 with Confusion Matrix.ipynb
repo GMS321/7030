{
  "nbformat": 4,
  "nbformat_minor": 0,
  "metadata": {
    "colab": {
      "provenance": []
    },
    "kernelspec": {
      "name": "python3",
      "display_name": "Python 3"
    },
    "language_info": {
      "name": "python"
    }
  },
  "cells": [
    {
      "cell_type": "code",
      "execution_count": 1,
      "metadata": {
        "colab": {
          "base_uri": "https://localhost:8080/"
        },
        "id": "eVpCJBNv10pd",
        "outputId": "cb49d6b3-7214-44cb-c87a-c92e50af0f95"
      },
      "outputs": [
        {
          "output_type": "stream",
          "name": "stdout",
          "text": [
            "Requirement already satisfied: pyspark in /usr/local/lib/python3.11/dist-packages (3.5.1)\n",
            "Requirement already satisfied: py4j==0.10.9.7 in /usr/local/lib/python3.11/dist-packages (from pyspark) (0.10.9.7)\n"
          ]
        }
      ],
      "source": [
        "!pip install pyspark\n",
        "from pyspark.sql import SparkSession\n",
        "spark = SparkSession.builder.master(\"local[*]\").getOrCreate()"
      ]
    },
    {
      "cell_type": "code",
      "source": [
        "\n",
        "dataset = spark.read.csv('/content/customer_segmentation_dataset.csv',inferSchema=True, header =True)\\\n",
        ".toDF(\"age\", \"annual_income\", \"spending_score\", \"years_as_customer\", \"number_of_purchases\",\"customer_segment\")\n",
        "\n",
        "\n",
        "dataset.select('customer_segment').distinct().show(10)\n",
        "dataset.count()"
      ],
      "metadata": {
        "colab": {
          "base_uri": "https://localhost:8080/"
        },
        "id": "k_IZ6VJU36yQ",
        "outputId": "7810e473-2b4c-4d01-d01b-858abee15500"
      },
      "execution_count": 4,
      "outputs": [
        {
          "output_type": "stream",
          "name": "stdout",
          "text": [
            "+----------------+\n",
            "|customer_segment|\n",
            "+----------------+\n",
            "|    Medium Value|\n",
            "|      High Value|\n",
            "|       Low Value|\n",
            "+----------------+\n",
            "\n"
          ]
        },
        {
          "output_type": "execute_result",
          "data": {
            "text/plain": [
              "2000000"
            ]
          },
          "metadata": {},
          "execution_count": 4
        }
      ]
    },
    {
      "cell_type": "code",
      "source": [
        "from pyspark.ml.linalg import Vectors\n",
        "from pyspark.ml.feature import VectorAssembler\n",
        "vector_assembler = VectorAssembler(\\\n",
        "inputCols=[\"age\", \"annual_income\", \"spending_score\", \"years_as_customer\", \"number_of_purchases\"],\\\n",
        "outputCol=\"features\")\n",
        "df_temp = vector_assembler.transform(dataset)\n",
        "df_temp.show(3)"
      ],
      "metadata": {
        "colab": {
          "base_uri": "https://localhost:8080/"
        },
        "id": "3FLPbjB85sYj",
        "outputId": "2814ae84-a077-420c-ff45-0643d5e55437"
      },
      "execution_count": 5,
      "outputs": [
        {
          "output_type": "stream",
          "name": "stdout",
          "text": [
            "+---+-------------+--------------+-----------------+-------------------+----------------+--------------------+\n",
            "|age|annual_income|spending_score|years_as_customer|number_of_purchases|customer_segment|            features|\n",
            "+---+-------------+--------------+-----------------+-------------------+----------------+--------------------+\n",
            "| 22|       113441|            19|                2|                 44|       Low Value|[22.0,113441.0,19...|\n",
            "| 47|        85415|            74|                7|                 11|    Medium Value|[47.0,85415.0,74....|\n",
            "| 60|        78075|            18|               19|                 37|       Low Value|[60.0,78075.0,18....|\n",
            "+---+-------------+--------------+-----------------+-------------------+----------------+--------------------+\n",
            "only showing top 3 rows\n",
            "\n"
          ]
        }
      ]
    },
    {
      "cell_type": "code",
      "source": [
        "#Let’s remove unnecessary columns:\n",
        "df = df_temp.drop('age', 'annual_income', 'spending_score', 'years_as_customer', 'number_of_purchases')\n",
        "df.show(3)"
      ],
      "metadata": {
        "colab": {
          "base_uri": "https://localhost:8080/"
        },
        "id": "Mf6vQeBO6DNB",
        "outputId": "1cf1f718-7aaa-4206-d2e0-5d1018310ede"
      },
      "execution_count": 6,
      "outputs": [
        {
          "output_type": "stream",
          "name": "stdout",
          "text": [
            "+----------------+--------------------+\n",
            "|customer_segment|            features|\n",
            "+----------------+--------------------+\n",
            "|       Low Value|[22.0,113441.0,19...|\n",
            "|    Medium Value|[47.0,85415.0,74....|\n",
            "|       Low Value|[60.0,78075.0,18....|\n",
            "+----------------+--------------------+\n",
            "only showing top 3 rows\n",
            "\n"
          ]
        }
      ]
    },
    {
      "cell_type": "code",
      "source": [
        "from pyspark.ml.feature import StringIndexer\n",
        "l_indexer = StringIndexer(inputCol=\"customer_segment\", outputCol=\"customer_segmentIndex\")\n",
        "df = l_indexer.fit(df).transform(df)\n",
        "df.select('customer_segment','customer_segmentIndex').distinct().show(3)"
      ],
      "metadata": {
        "colab": {
          "base_uri": "https://localhost:8080/"
        },
        "id": "w_pJlJml6g6B",
        "outputId": "c09ad5c5-97c2-471f-a89c-8abce877bec0"
      },
      "execution_count": 7,
      "outputs": [
        {
          "output_type": "stream",
          "name": "stdout",
          "text": [
            "+----------------+---------------------+\n",
            "|customer_segment|customer_segmentIndex|\n",
            "+----------------+---------------------+\n",
            "|      High Value|                  2.0|\n",
            "|    Medium Value|                  1.0|\n",
            "|       Low Value|                  0.0|\n",
            "+----------------+---------------------+\n",
            "\n"
          ]
        }
      ]
    },
    {
      "cell_type": "code",
      "source": [
        "(trainingData, testData) = df.randomSplit([0.7, 0.3])"
      ],
      "metadata": {
        "id": "SB7N1ICf7auB"
      },
      "execution_count": 8,
      "outputs": []
    },
    {
      "cell_type": "code",
      "source": [
        "from pyspark.ml.classification import DecisionTreeClassifier\n",
        "from pyspark.ml.evaluation import MulticlassClassificationEvaluator\n",
        "dt = DecisionTreeClassifier(labelCol=\"customer_segmentIndex\", featuresCol=\"features\",impurity='entropy', maxDepth=4,seed=1234)\n",
        "model = dt.fit(trainingData)\n",
        "predictions = model.transform(testData)"
      ],
      "metadata": {
        "id": "Pu6-QkEl7foh"
      },
      "execution_count": 9,
      "outputs": []
    },
    {
      "cell_type": "code",
      "source": [
        "evaluator = MulticlassClassificationEvaluator(\\\n",
        "labelCol=\"customer_segmentIndex\", predictionCol=\"prediction\",\\\n",
        "metricName=\"accuracy\")\n",
        "accuracy = evaluator.evaluate(predictions)\n",
        "print(\"Test accuracy =  \" , accuracy)\n",
        "print(model.toDebugString)"
      ],
      "metadata": {
        "colab": {
          "base_uri": "https://localhost:8080/"
        },
        "id": "w5Z-yC1q8ZmY",
        "outputId": "34e7f5a5-e99c-457c-faf1-5fda40a63574"
      },
      "execution_count": 10,
      "outputs": [
        {
          "output_type": "stream",
          "name": "stdout",
          "text": [
            "Test accuracy =   0.9799477681385645\n",
            "DecisionTreeClassificationModel: uid=DecisionTreeClassifier_92ea661dd2ec, depth=2, numNodes=5, numClasses=3, numFeatures=5\n",
            "  If (feature 2 <= 49.5)\n",
            "   Predict: 0.0\n",
            "  Else (feature 2 > 49.5)\n",
            "   If (feature 2 <= 74.5)\n",
            "    Predict: 1.0\n",
            "   Else (feature 2 > 74.5)\n",
            "    Predict: 2.0\n",
            "\n"
          ]
        }
      ]
    },
    {
      "cell_type": "code",
      "source": [
        "#Multiclassification using Logisitc Regression\n",
        "\n",
        "# this is code for multiple classification using logistic Regression\n",
        "from pyspark.ml.classification import OneVsRest\n",
        "from pyspark.ml.classification import LogisticRegression\n",
        "train, test = df.randomSplit([0.7, 0.3], seed = 2018)\n",
        "lr = LogisticRegression(maxIter=100, \\\n",
        "\n",
        "                        featuresCol=\"features\", \\\n",
        "\n",
        "                        labelCol='customer_segmentIndex')\n",
        "ovr = OneVsRest(classifier=lr, \\\n",
        "                labelCol='customer_segmentIndex', \\\n",
        "                featuresCol='features')\n",
        "#from pyspark.ml import Pipeline\n",
        "#pipeline_ovr = Pipeline(stages=[vecAssembler, stdScaler, ovr])\n",
        "#pipelineModel_ovr = pipeline_ovr.fit(trainDF)\n",
        "\n",
        "ovrModel = ovr.fit(train)\n",
        "predictionsovr = ovrModel.transform(test)\n",
        "\n",
        "\n",
        "evaluator = MulticlassClassificationEvaluator(\\\n",
        "labelCol=\"customer_segmentIndex\", predictionCol=\"prediction\",\\\n",
        "metricName=\"accuracy\")\n",
        "accuracy = evaluator.evaluate(predictionsovr)\n",
        "print(\"Test accuracy =  \" , accuracy)"
      ],
      "metadata": {
        "colab": {
          "base_uri": "https://localhost:8080/"
        },
        "id": "0Tiz-7sN8tty",
        "outputId": "0c787539-15f5-49ea-d402-03f78c96343c"
      },
      "execution_count": 11,
      "outputs": [
        {
          "output_type": "stream",
          "name": "stdout",
          "text": [
            "Test accuracy =   1.0\n"
          ]
        }
      ]
    },
    {
      "cell_type": "code",
      "source": [
        "from pyspark.mllib.evaluation import MulticlassMetrics\n",
        "\n",
        "import pandas as pd\n",
        "\n",
        "import matplotlib.pyplot as plt\n",
        "\n",
        "import seaborn as sns\n",
        "\n",
        "# Create MulticlassMetrics object\n",
        "\n",
        " #Convert predictions and labels to RDD for MulticlassMetrics\n",
        "\n",
        "prediction_and_labels = predictionsovr.select(\"prediction\", \"customer_segmentIndex\") \\\n",
        "    .withColumnRenamed(\"Indexlabel\", \"customer_segment\") \\\n",
        "    .toPandas()  # Convert to Pandas DataFrame for easier manipulation\n",
        "\n",
        "# Create a confusion matrix using Pandas\n",
        "confusion_matrix = pd.crosstab(prediction_and_labels['customer_segmentIndex'], prediction_and_labels['prediction'], rownames=['Actual'], colnames=['Predicted'])\n",
        "\n",
        "\n",
        "\n",
        "# Plot the confusion matrix using Seaborn and Matplotlib\n",
        "\n",
        "plt.figure(figsize=(8, 6))\n",
        "sns.heatmap(confusion_matrix, annot=True, fmt=\"d\", cmap=\"Blues\", cbar=False)\n",
        "plt.title(\"Confusion Matrix\")\n",
        "plt.xlabel(\"Predicted\")\n",
        "plt.ylabel(\"Actual\")\n",
        "plt.show()\n",
        "\n",
        "\n",
        "\n",
        "evaluator = MulticlassClassificationEvaluator(\\\n",
        "labelCol=\"customer_segmentIndex\", predictionCol=\"prediction\",\\\n",
        "metricName=\"accuracy\")\n",
        "accuracy = evaluator.evaluate(predictionsovr)\n",
        "print(\"Test accuracy =  \" , accuracy)"
      ],
      "metadata": {
        "colab": {
          "base_uri": "https://localhost:8080/",
          "height": 581
        },
        "id": "NSciPagj_eDz",
        "outputId": "986bd632-edf3-4460-e22c-0363ee1541ed"
      },
      "execution_count": 17,
      "outputs": [
        {
          "output_type": "display_data",
          "data": {
            "text/plain": [
              "<Figure size 800x600 with 1 Axes>"
            ],
            "image/png": "[encoded data removed]"
          },
          "metadata": {}
        },
        {
          "output_type": "stream",
          "name": "stdout",
          "text": [
            "Test accuracy =   1.0\n"
          ]
        }
      ]
    }
  ]
}