{
  "nbformat": 4,
  "nbformat_minor": 0,
  "metadata": {
    "colab": {
      "provenance": []
    },
    "kernelspec": {
      "name": "python3",
      "display_name": "Python 3"
    },
    "language_info": {
      "name": "python"
    }
  },
  "cells": [
    {
      "cell_type": "code",
      "execution_count": 1,
      "metadata": {
        "colab": {
          "base_uri": "https://localhost:8080/"
        },
        "id": "xBd1O8l64qMa",
        "outputId": "aaffac4c-dfda-4d4e-f2f4-3a23e53a9554"
      },
      "outputs": [
        {
          "output_type": "stream",
          "name": "stdout",
          "text": [
            "Requirement already satisfied: pyspark in /usr/local/lib/python3.11/dist-packages (3.5.1)\n",
            "Requirement already satisfied: py4j==0.10.9.7 in /usr/local/lib/python3.11/dist-packages (from pyspark) (0.10.9.7)\n"
          ]
        }
      ],
      "source": [
        "!pip install pyspark"
      ]
    },
    {
      "cell_type": "code",
      "source": [
        "!pip install pyspark nltk\n"
      ],
      "metadata": {
        "colab": {
          "base_uri": "https://localhost:8080/"
        },
        "id": "_jYEZli-5EvY",
        "outputId": "06a582a1-2cf1-47a4-f04b-68540f89d2a1"
      },
      "execution_count": 2,
      "outputs": [
        {
          "output_type": "stream",
          "name": "stdout",
          "text": [
            "Requirement already satisfied: pyspark in /usr/local/lib/python3.11/dist-packages (3.5.1)\n",
            "Requirement already satisfied: nltk in /usr/local/lib/python3.11/dist-packages (3.9.1)\n",
            "Requirement already satisfied: py4j==0.10.9.7 in /usr/local/lib/python3.11/dist-packages (from pyspark) (0.10.9.7)\n",
            "Requirement already satisfied: click in /usr/local/lib/python3.11/dist-packages (from nltk) (8.2.1)\n",
            "Requirement already satisfied: joblib in /usr/local/lib/python3.11/dist-packages (from nltk) (1.5.1)\n",
            "Requirement already satisfied: regex>=2021.8.3 in /usr/local/lib/python3.11/dist-packages (from nltk) (2024.11.6)\n",
            "Requirement already satisfied: tqdm in /usr/local/lib/python3.11/dist-packages (from nltk) (4.67.1)\n"
          ]
        }
      ]
    },
    {
      "cell_type": "code",
      "source": [
        "import nltk\n",
        "nltk.download('wordnet')\n",
        "nltk.download('omw-1.4')"
      ],
      "metadata": {
        "colab": {
          "base_uri": "https://localhost:8080/"
        },
        "id": "Kx2q9Jx35Ok-",
        "outputId": "7fd55d2e-68e3-42e6-e4a4-ae55ac305908"
      },
      "execution_count": 3,
      "outputs": [
        {
          "output_type": "stream",
          "name": "stderr",
          "text": [
            "[nltk_data] Downloading package wordnet to /root/nltk_data...\n",
            "[nltk_data] Downloading package omw-1.4 to /root/nltk_data...\n"
          ]
        },
        {
          "output_type": "execute_result",
          "data": {
            "text/plain": [
              "True"
            ]
          },
          "metadata": {},
          "execution_count": 3
        }
      ]
    },
    {
      "cell_type": "code",
      "source": [
        "# Import necessary PySpark modules\n",
        "from pyspark.sql import SparkSession\n",
        "from pyspark.sql.functions import col\n",
        "from pyspark.ml.feature import Tokenizer, StopWordsRemover, HashingTF, IDF\n",
        "from pyspark.ml.classification import LogisticRegression\n",
        "from pyspark.ml import Pipeline\n",
        "from pyspark.ml.feature import StringIndexer\n",
        "from pyspark.ml.evaluation import MulticlassClassificationEvaluator"
      ],
      "metadata": {
        "id": "mu2P3aRD5T-_"
      },
      "execution_count": 4,
      "outputs": []
    },
    {
      "cell_type": "code",
      "source": [
        "#Import NLP Libraries for Stemming & Lemmatization\n",
        "from pyspark.sql.functions import udf\n",
        "from pyspark.sql.types import ArrayType, StringType\n",
        "from nltk.stem import PorterStemmer, WordNetLemmatizer"
      ],
      "metadata": {
        "id": "J3GITW2Q5Xe8"
      },
      "execution_count": 5,
      "outputs": []
    },
    {
      "cell_type": "code",
      "source": [
        "#Define UDFs for Stemming & Lemmatization\n",
        "# Initialize Stemmer and Lemmatizer\n",
        "stemmer = PorterStemmer()\n",
        "lemmatizer = WordNetLemmatizer()\n",
        "\n",
        "# Define UDF for Stemming\n",
        "def stem_words(words):\n",
        "    return [stemmer.stem(word) for word in words]\n",
        "\n",
        "# Define UDF for Lemmatization\n",
        "def lemmatize_words(words):\n",
        "    return [lemmatizer.lemmatize(word) for word in words]\n",
        "\n",
        "# Convert Python functions to PySpark UDFs\n",
        "stem_udf = udf(stem_words, ArrayType(StringType()))\n",
        "lemma_udf = udf(lemmatize_words, ArrayType(StringType()))"
      ],
      "metadata": {
        "id": "1EbXrIiw5bY8"
      },
      "execution_count": 6,
      "outputs": []
    },
    {
      "cell_type": "code",
      "source": [
        "# Create a Spark session\n",
        "spark = SparkSession.builder.appName(\"DocumentClassificationTFIDF\").getOrCreate()"
      ],
      "metadata": {
        "id": "KJFZUd1T5ep0"
      },
      "execution_count": 7,
      "outputs": []
    },
    {
      "cell_type": "code",
      "source": [
        "# Load & Preprocess Data (Tokenization, Stopword Removal, Stemming, Lemmatization)\n",
        "# Sample dataset\n",
        "data = [(0,\"Cloud computing is becoming increasingly important for businesses\",\"Technology\"),\n",
        " (1, \"Basketball players are preparing for the next tournament\", \"Sports\"),\n",
        " (2,\"Machine learning has revolutionized the way data is processed\",\"Technology\"),\n",
        " (3, \"Political campaigns are gearing up for the upcoming elections\",\"Politics\"),\n",
        " (4, \"The football team has been training hard for the upcoming season\", \"Sports\"),\n",
        " (5,\"International relations are being discussed in diplomatic meetings\",\"Politics\"),\n",
        " (6, \"The president addressed the nation in a live broadcast\", \"Politics\"),\n",
        " (7, \"Tennis players are practicing for the grand slam matches\", \"Sports\"),\n",
        " (8,\"Machine learning has revolutionized the way data is processed\",\"Technology\"),\n",
        " (9, \"Stock trading has become a popular way to build wealth\", \"Finance\"),\n",
        " (10, \"5G technology is expected to significantly improve communication speeds\",\"Technology\"),\n",
        " (11,\"Political campaigns are gearing up for the upcoming elections\",\"Politics\"),\n",
        " (12,\n",
        "  \"Machine learning has revolutionized the way data is processed\",\n",
        "  \"Technology\"),\n",
        " (13,\n",
        "  \"Investors are looking for high-yield bonds in the current market\",\n",
        "  \"Finance\"),\n",
        " (14,\n",
        "  \"Quantum computing holds promise for solving complex problems\",\n",
        "  \"Technology\"),\n",
        " (15,\n",
        "  \"Cloud computing is becoming increasingly important for businesses\",\n",
        "  \"Technology\"),\n",
        " (16, \"The Formula 1 race track is set to host the next grand prix\", \"Sports\"),\n",
        " (17,\n",
        "  \"Financial experts are advising on diversifying investment portfolios\",\n",
        "  \"Finance\"),\n",
        " (18, \"Stock trading has become a popular way to build wealth\", \"Finance\"),\n",
        " (19, \"Stock trading has become a popular way to build wealth\", \"Finance\"),\n",
        " (20,\n",
        "  \"International relations are being discussed in diplomatic meetings\",\n",
        "  \"Politics\"),\n",
        " (21, \"The Formula 1 race track is set to host the next grand prix\", \"Sports\"),\n",
        " (22,\n",
        "  \"Political campaigns are gearing up for the upcoming elections\",\n",
        "  \"Politics\"),\n",
        " (23,\n",
        "  \"Machine learning has revolutionized the way data is processed\",\n",
        "  \"Technology\"),\n",
        " (24,\n",
        "  \"The football team has been training hard for the upcoming season\",\n",
        "  \"Sports\"),\n",
        " (25, \"Tennis players are practicing for the grand slam matches\", \"Sports\"),\n",
        " (26, \"Tennis players are practicing for the grand slam matches\", \"Sports\"),\n",
        " (27,\n",
        "  \"Political campaigns are gearing up for the upcoming elections\",\n",
        "  \"Politics\"),\n",
        " (28,\n",
        "  \"The real estate market has seen significant growth in the past decade\",\n",
        "  \"Finance\"),\n",
        " (29,\n",
        "  \"Financial experts are advising on diversifying investment portfolios\",\n",
        "  \"Finance\")]\n",
        "df = spark.createDataFrame(data, [\"id\", \"text\", \"category\"])\n",
        "\n",
        "# Tokenization\n",
        "tokenizer = Tokenizer(inputCol=\"text\", outputCol=\"words\")\n",
        "df = tokenizer.transform(df)\n",
        "\n",
        "# Stopword Removal\n",
        "remover = StopWordsRemover(inputCol=\"words\", outputCol=\"filtered_words\")\n",
        "df = remover.transform(df)\n",
        "\n",
        "# Apply Stemming\n",
        "df = df.withColumn(\"stemmed_words\", stem_udf(col(\"filtered_words\")))\n",
        "\n",
        "# Apply Lemmatization\n",
        "df = df.withColumn(\"lemmatized_words\", lemma_udf(col(\"filtered_words\")))\n",
        "\n",
        "# Show Results\n",
        "df.select(\"text\", \"filtered_words\", \"stemmed_words\", \"lemmatized_words\").show(truncate=False)"
      ],
      "metadata": {
        "colab": {
          "base_uri": "https://localhost:8080/"
        },
        "id": "HzFb9uL55mJa",
        "outputId": "356344b5-5c9b-4335-d9b8-4fb764ffb76f"
      },
      "execution_count": 8,
      "outputs": [
        {
          "output_type": "stream",
          "name": "stdout",
          "text": [
            "+-----------------------------------------------------------------------+-------------------------------------------------------------------------+-------------------------------------------------------------+------------------------------------------------------------------------+\n",
            "|text                                                                   |filtered_words                                                           |stemmed_words                                                |lemmatized_words                                                        |\n",
            "+-----------------------------------------------------------------------+-------------------------------------------------------------------------+-------------------------------------------------------------+------------------------------------------------------------------------+\n",
            "|Cloud computing is becoming increasingly important for businesses      |[cloud, computing, becoming, increasingly, important, businesses]        |[cloud, comput, becom, increasingli, import, busi]           |[cloud, computing, becoming, increasingly, important, business]         |\n",
            "|Basketball players are preparing for the next tournament               |[basketball, players, preparing, next, tournament]                       |[basketbal, player, prepar, next, tournament]                |[basketball, player, preparing, next, tournament]                       |\n",
            "|Machine learning has revolutionized the way data is processed          |[machine, learning, revolutionized, way, data, processed]                |[machin, learn, revolution, way, data, process]              |[machine, learning, revolutionized, way, data, processed]               |\n",
            "|Political campaigns are gearing up for the upcoming elections          |[political, campaigns, gearing, upcoming, elections]                     |[polit, campaign, gear, upcom, elect]                        |[political, campaign, gearing, upcoming, election]                      |\n",
            "|The football team has been training hard for the upcoming season       |[football, team, training, hard, upcoming, season]                       |[footbal, team, train, hard, upcom, season]                  |[football, team, training, hard, upcoming, season]                      |\n",
            "|International relations are being discussed in diplomatic meetings     |[international, relations, discussed, diplomatic, meetings]              |[intern, relat, discuss, diplomat, meet]                     |[international, relation, discussed, diplomatic, meeting]               |\n",
            "|The president addressed the nation in a live broadcast                 |[president, addressed, nation, live, broadcast]                          |[presid, address, nation, live, broadcast]                   |[president, addressed, nation, live, broadcast]                         |\n",
            "|Tennis players are practicing for the grand slam matches               |[tennis, players, practicing, grand, slam, matches]                      |[tenni, player, practic, grand, slam, match]                 |[tennis, player, practicing, grand, slam, match]                        |\n",
            "|Machine learning has revolutionized the way data is processed          |[machine, learning, revolutionized, way, data, processed]                |[machin, learn, revolution, way, data, process]              |[machine, learning, revolutionized, way, data, processed]               |\n",
            "|Stock trading has become a popular way to build wealth                 |[stock, trading, become, popular, way, build, wealth]                    |[stock, trade, becom, popular, way, build, wealth]           |[stock, trading, become, popular, way, build, wealth]                   |\n",
            "|5G technology is expected to significantly improve communication speeds|[5g, technology, expected, significantly, improve, communication, speeds]|[5g, technolog, expect, significantli, improv, commun, speed]|[5g, technology, expected, significantly, improve, communication, speed]|\n",
            "|Political campaigns are gearing up for the upcoming elections          |[political, campaigns, gearing, upcoming, elections]                     |[polit, campaign, gear, upcom, elect]                        |[political, campaign, gearing, upcoming, election]                      |\n",
            "|Machine learning has revolutionized the way data is processed          |[machine, learning, revolutionized, way, data, processed]                |[machin, learn, revolution, way, data, process]              |[machine, learning, revolutionized, way, data, processed]               |\n",
            "|Investors are looking for high-yield bonds in the current market       |[investors, looking, high-yield, bonds, current, market]                 |[investor, look, high-yield, bond, current, market]          |[investor, looking, high-yield, bond, current, market]                  |\n",
            "|Quantum computing holds promise for solving complex problems           |[quantum, computing, holds, promise, solving, complex, problems]         |[quantum, comput, hold, promis, solv, complex, problem]      |[quantum, computing, hold, promise, solving, complex, problem]          |\n",
            "|Cloud computing is becoming increasingly important for businesses      |[cloud, computing, becoming, increasingly, important, businesses]        |[cloud, comput, becom, increasingli, import, busi]           |[cloud, computing, becoming, increasingly, important, business]         |\n",
            "|The Formula 1 race track is set to host the next grand prix            |[formula, 1, race, track, set, host, next, grand, prix]                  |[formula, 1, race, track, set, host, next, grand, prix]      |[formula, 1, race, track, set, host, next, grand, prix]                 |\n",
            "|Financial experts are advising on diversifying investment portfolios   |[financial, experts, advising, diversifying, investment, portfolios]     |[financi, expert, advis, diversifi, invest, portfolio]       |[financial, expert, advising, diversifying, investment, portfolio]      |\n",
            "|Stock trading has become a popular way to build wealth                 |[stock, trading, become, popular, way, build, wealth]                    |[stock, trade, becom, popular, way, build, wealth]           |[stock, trading, become, popular, way, build, wealth]                   |\n",
            "|Stock trading has become a popular way to build wealth                 |[stock, trading, become, popular, way, build, wealth]                    |[stock, trade, becom, popular, way, build, wealth]           |[stock, trading, become, popular, way, build, wealth]                   |\n",
            "+-----------------------------------------------------------------------+-------------------------------------------------------------------------+-------------------------------------------------------------+------------------------------------------------------------------------+\n",
            "only showing top 20 rows\n",
            "\n"
          ]
        }
      ]
    },
    {
      "cell_type": "code",
      "source": [
        "# Compute TF-IDF After Preprocessing\n",
        "# Apply HashingTF to the lemmatized words\n",
        "hashingTF = HashingTF(inputCol=\"lemmatized_words\", outputCol=\"raw_features\", numFeatures=500)\n",
        "df = hashingTF.transform(df)\n",
        "\n",
        "# Compute IDF\n",
        "idf = IDF(inputCol=\"raw_features\", outputCol=\"features\")\n",
        "idf_model = idf.fit(df)\n",
        "df = idf_model.transform(df)\n",
        "\n",
        "# Show TF-IDF Features\n",
        "df.select(\"text\", \"features\").show(truncate=False)"
      ],
      "metadata": {
        "colab": {
          "base_uri": "https://localhost:8080/"
        },
        "id": "71KG_pWo5vrC",
        "outputId": "8d89f40a-e7cd-47ae-f9d1-523710603b32"
      },
      "execution_count": 9,
      "outputs": [
        {
          "output_type": "stream",
          "name": "stdout",
          "text": [
            "+-----------------------------------------------------------------------+---------------------------------------------------------------------------------------------------------------------------------------------------------------------------------------------------------------------+\n",
            "|text                                                                   |features                                                                                                                                                                                                             |\n",
            "+-----------------------------------------------------------------------+---------------------------------------------------------------------------------------------------------------------------------------------------------------------------------------------------------------------+\n",
            "|Cloud computing is becoming increasingly important for businesses      |(500,[13,287,345,374,467,480],[2.3353749158170367,2.3353749158170367,2.0476928433652555,2.3353749158170367,2.3353749158170367,2.3353749158170367])                                                                   |\n",
            "|Basketball players are preparing for the next tournament               |(500,[63,104,243,273,367],[2.740840023925201,1.488077055429833,2.740840023925201,2.0476928433652555,2.740840023925201])                                                                                              |\n",
            "|Machine learning has revolutionized the way data is processed          |(500,[40,65,72,195,360,391],[1.0360919316867758,1.824549292051046,1.824549292051046,1.824549292051046,1.824549292051046,1.3545456628053103])                                                                         |\n",
            "|Political campaigns are gearing up for the upcoming elections          |(500,[40,132,175,435,461],[1.0360919316867758,1.824549292051046,1.824549292051046,1.824549292051046,1.824549292051046])                                                                                              |\n",
            "|The football team has been training hard for the upcoming season       |(500,[38,40,104,125,358,468],[2.3353749158170367,1.0360919316867758,1.488077055429833,2.3353749158170367,2.3353749158170367,2.3353749158170367])                                                                     |\n",
            "|International relations are being discussed in diplomatic meetings     |(500,[20,60,188,208,479],[2.0476928433652555,2.3353749158170367,2.3353749158170367,2.3353749158170367,2.3353749158170367])                                                                                           |\n",
            "|The president addressed the nation in a live broadcast                 |(500,[14,244,251,306,493],[1.824549292051046,2.740840023925201,2.740840023925201,2.740840023925201,2.740840023925201])                                                                                               |\n",
            "|Tennis players are practicing for the grand slam matches               |(500,[90,94,104,226,293,456],[1.236762627148927,2.0476928433652555,1.488077055429833,2.0476928433652555,1.488077055429833,2.0476928433652555])                                                                       |\n",
            "|Machine learning has revolutionized the way data is processed          |(500,[40,65,72,195,360,391],[1.0360919316867758,1.824549292051046,1.824549292051046,1.824549292051046,1.824549292051046,1.3545456628053103])                                                                         |\n",
            "|Stock trading has become a popular way to build wealth                 |(500,[14,90,148,293,391,490],[1.824549292051046,2.473525254297854,2.0476928433652555,1.488077055429833,1.3545456628053103,2.0476928433652555])                                                                       |\n",
            "|5G technology is expected to significantly improve communication speeds|(500,[20,143,164,171,292,408,482],[2.0476928433652555,2.740840023925201,2.740840023925201,2.740840023925201,2.740840023925201,2.740840023925201,2.740840023925201])                                                  |\n",
            "|Political campaigns are gearing up for the upcoming elections          |(500,[40,132,175,435,461],[1.0360919316867758,1.824549292051046,1.824549292051046,1.824549292051046,1.824549292051046])                                                                                              |\n",
            "|Machine learning has revolutionized the way data is processed          |(500,[40,65,72,195,360,391],[1.0360919316867758,1.824549292051046,1.824549292051046,1.824549292051046,1.824549292051046,1.3545456628053103])                                                                         |\n",
            "|Investors are looking for high-yield bonds in the current market       |(500,[147,157,189,232,248,436],[2.740840023925201,2.3353749158170367,2.740840023925201,2.740840023925201,2.740840023925201,2.740840023925201])                                                                       |\n",
            "|Quantum computing holds promise for solving complex problems           |(500,[53,56,198,333,345,355,389],[2.740840023925201,2.740840023925201,2.740840023925201,2.740840023925201,2.0476928433652555,2.740840023925201,2.740840023925201])                                                   |\n",
            "|Cloud computing is becoming increasingly important for businesses      |(500,[13,287,345,374,467,480],[2.3353749158170367,2.3353749158170367,2.0476928433652555,2.3353749158170367,2.3353749158170367,2.3353749158170367])                                                                   |\n",
            "|The Formula 1 race track is set to host the next grand prix            |(500,[90,95,102,273,342,413,431,452,454],[1.236762627148927,2.3353749158170367,2.3353749158170367,2.0476928433652555,2.3353749158170367,2.3353749158170367,2.3353749158170367,2.3353749158170367,2.3353749158170367])|\n",
            "|Financial experts are advising on diversifying investment portfolios   |(500,[62,93,161,178,407,414],[2.3353749158170367,2.3353749158170367,2.3353749158170367,2.3353749158170367,2.3353749158170367,2.3353749158170367])                                                                    |\n",
            "|Stock trading has become a popular way to build wealth                 |(500,[14,90,148,293,391,490],[1.824549292051046,2.473525254297854,2.0476928433652555,1.488077055429833,1.3545456628053103,2.0476928433652555])                                                                       |\n",
            "|Stock trading has become a popular way to build wealth                 |(500,[14,90,148,293,391,490],[1.824549292051046,2.473525254297854,2.0476928433652555,1.488077055429833,1.3545456628053103,2.0476928433652555])                                                                       |\n",
            "+-----------------------------------------------------------------------+---------------------------------------------------------------------------------------------------------------------------------------------------------------------------------------------------------------------+\n",
            "only showing top 20 rows\n",
            "\n"
          ]
        }
      ]
    },
    {
      "cell_type": "code",
      "source": [
        "#Step 5: Train & Evaluate Logistic Regression Classifier\n",
        "\n",
        "# Convert category labels to numerical labels\n",
        "indexer = StringIndexer(inputCol=\"category\", outputCol=\"label\")\n",
        "df = indexer.fit(df).transform(df)\n",
        "df.select(\"category\", \"label\").distinct().show()\n",
        "# Split Data\n",
        "train_data, test_data = df.randomSplit([0.8, 0.2], seed=42)\n",
        "\n",
        "# Train Logistic Regression Model\n",
        "lr = LogisticRegression(featuresCol=\"features\", labelCol=\"label\")\n",
        "lr_model = lr.fit(train_data)\n",
        "\n",
        "# Predictions\n",
        "predictions = lr_model.transform(test_data)\n",
        "predictions.select(\"text\", \"category\", \"prediction\").show(truncate=False)\n",
        "\n",
        "# Evaluate Model Accuracy\n",
        "evaluator = MulticlassClassificationEvaluator(labelCol=\"label\", predictionCol=\"prediction\", metricName=\"accuracy\")\n",
        "accuracy_tf_idf = evaluator.evaluate(predictions)\n",
        "print(f\"TF-IDF Model Accuracy: {accuracy_tf_idf:.2f}\")"
      ],
      "metadata": {
        "colab": {
          "base_uri": "https://localhost:8080/"
        },
        "id": "GywR3E-453XZ",
        "outputId": "c88cc3fe-f432-49e6-d7e5-f41ce70ce6dd"
      },
      "execution_count": 10,
      "outputs": [
        {
          "output_type": "stream",
          "name": "stdout",
          "text": [
            "+----------+-----+\n",
            "|  category|label|\n",
            "+----------+-----+\n",
            "|    Sports|  0.0|\n",
            "|  Politics|  3.0|\n",
            "|   Finance|  2.0|\n",
            "|Technology|  1.0|\n",
            "+----------+-----+\n",
            "\n",
            "+--------------------------------------------------------------------+----------+----------+\n",
            "|text                                                                |category  |prediction|\n",
            "+--------------------------------------------------------------------+----------+----------+\n",
            "|Machine learning has revolutionized the way data is processed       |Technology|1.0       |\n",
            "|The president addressed the nation in a live broadcast              |Politics  |2.0       |\n",
            "|Machine learning has revolutionized the way data is processed       |Technology|1.0       |\n",
            "|Investors are looking for high-yield bonds in the current market    |Finance   |2.0       |\n",
            "|Cloud computing is becoming increasingly important for businesses   |Technology|1.0       |\n",
            "|International relations are being discussed in diplomatic meetings  |Politics  |3.0       |\n",
            "|The Formula 1 race track is set to host the next grand prix         |Sports    |0.0       |\n",
            "|Financial experts are advising on diversifying investment portfolios|Finance   |2.0       |\n",
            "+--------------------------------------------------------------------+----------+----------+\n",
            "\n",
            "TF-IDF Model Accuracy: 0.88\n"
          ]
        }
      ]
    },
    {
      "cell_type": "code",
      "source": [
        "df.select(\"category\", \"label\").distinct().show()"
      ],
      "metadata": {
        "colab": {
          "base_uri": "https://localhost:8080/"
        },
        "id": "itHLKzTz6ETO",
        "outputId": "3325a0b9-5813-437b-f33c-90d2f641009f"
      },
      "execution_count": 11,
      "outputs": [
        {
          "output_type": "stream",
          "name": "stdout",
          "text": [
            "+----------+-----+\n",
            "|  category|label|\n",
            "+----------+-----+\n",
            "|    Sports|  0.0|\n",
            "|  Politics|  3.0|\n",
            "|   Finance|  2.0|\n",
            "|Technology|  1.0|\n",
            "+----------+-----+\n",
            "\n"
          ]
        }
      ]
    },
    {
      "cell_type": "code",
      "source": [
        "#Train Word2Vec Model\n",
        "#import Word2Vec\n",
        "from pyspark.ml.feature import Word2Vec # Import Word2Vec here\n",
        "word2Vec = Word2Vec(vectorSize=100, minCount=1, inputCol=\"lemmatized_words\", outputCol=\"featuresW2Vector\")\n",
        "word2Vec_model = word2Vec.fit(df)\n",
        "df = word2Vec_model.transform(df)\n",
        "\n",
        "df.select(\"text\", \"featuresW2Vector\").show(truncate=False)"
      ],
      "metadata": {
        "colab": {
          "base_uri": "https://localhost:8080/"
        },
        "id": "_QUDkaHV6HQm",
        "outputId": "61e3aff7-1c3e-454f-ca4e-ff7efd29332e"
      },
      "execution_count": 12,
      "outputs": [
        {
          "output_type": "stream",
          "name": "stdout",
          "text": [
            "+-----------------------------------------------------------------------+------------------------------------------------------------------------------------------------------------------------------------------------------------------------------------------------------------------------------------------------------------------------------------------------------------------------------------------------------------------------------------------------------------------------------------------------------------------------------------------------------------------------------------------------------------------------------------------------------------------------------------------------------------------------------------------------------------------------------------------------------------------------------------------------------------------------------------------------------------------------------------------------------------------------------------------------------------------------------------------------------------------------------------------------------------------------------------------------------------------------------------------------------------------------------------------------------------------------------------------------------------------------------------------------------------------------------------------------------------------------------------------------------------------------------------------------------------------------------------------------------------------------------------------------------------------------------------------------------------------------------------------------------------------------------------------------------------------------------------------------------------------------------------------------------------------------------------------------------------------------------------------------------------------------------------------------------------------------------------------------------------------------------------------------------------------------------------------------------------------------------------------------------------------------------------------------------------------------------------------------------------------------------------------+\n",
            "|text                                                                   |featuresW2Vector                                                                                                                                                                                                                                                                                                                                                                                                                                                                                                                                                                                                                                                                                                                                                                                                                                                                                                                                                                                                                                                                                                                                                                                                                                                                                                                                                                                                                                                                                                                                                                                                                                                                                                                                                                                                                                                                                                                                                                                                                                                                                                                                                                                                                                                                          |\n",
            "+-----------------------------------------------------------------------+------------------------------------------------------------------------------------------------------------------------------------------------------------------------------------------------------------------------------------------------------------------------------------------------------------------------------------------------------------------------------------------------------------------------------------------------------------------------------------------------------------------------------------------------------------------------------------------------------------------------------------------------------------------------------------------------------------------------------------------------------------------------------------------------------------------------------------------------------------------------------------------------------------------------------------------------------------------------------------------------------------------------------------------------------------------------------------------------------------------------------------------------------------------------------------------------------------------------------------------------------------------------------------------------------------------------------------------------------------------------------------------------------------------------------------------------------------------------------------------------------------------------------------------------------------------------------------------------------------------------------------------------------------------------------------------------------------------------------------------------------------------------------------------------------------------------------------------------------------------------------------------------------------------------------------------------------------------------------------------------------------------------------------------------------------------------------------------------------------------------------------------------------------------------------------------------------------------------------------------------------------------------------------------+\n",
            "|Cloud computing is becoming increasingly important for businesses      |[-8.568419192063932E-4,0.0022805496507013836,-3.405211585535047E-4,-0.0014351826588002343,-3.2015523174777627E-4,-4.893859149888158E-4,-0.001366993577297156,4.655914575171967E-4,-0.0015440638041278967,1.6657425536929318E-4,0.0015178834922456492,0.0016569029442810763,6.446172289239863E-4,0.0010390128954895772,0.00180585723137483,-6.654702301602811E-4,-0.0023357506967537725,-8.22250876808539E-4,-4.140625292166078E-4,-2.3574745864607394E-4,-0.0021132296339298287,0.002195505522346745,0.0010450573463458568,0.0023130890234218287,8.062398798453311E-4,0.003431771183386445,0.0011902519375629101,-1.8229830311611295E-4,5.03210527919388E-4,0.001642005459871143,-8.090385769416267E-4,0.0013236168500346441,-8.245432424397828E-4,-9.680986501431713E-4,-4.942505620419979E-4,-9.021007960351805E-4,-8.987802624081571E-4,-0.0020588424328404167,0.001696703679044731,-3.340264083817601E-5,6.834972058034812E-4,2.7446815511211753E-4,2.3707831860519946E-4,-0.0014447150703441971,8.542765038631235E-4,0.0013277457089012992,2.628985481957594E-4,2.520736167449892E-4,-5.06054008534799E-4,-0.0016673116867120066,0.0015624135097217124,-8.09947814559564E-4,1.981316794020434E-4,9.654814881893495E-4,0.0016553261569545914,-0.0023525977740064263,-6.451988107680032E-4,-0.002401656131648148,-0.002771868802180203,5.832508468301967E-4,-9.751282826376457E-4,-0.00125800521588341,0.0017108941513773364,2.605680686732133E-4,8.878758647673142E-4,-0.001589568853887613,-0.002324453462885382,-0.0015450791494610407,0.001061966290459774,4.935387357060487E-4,-0.0016216653554389873,0.001214779457465435,7.358874136116356E-4,5.621941430338968E-4,0.002881703306532775,0.0021126855281181633,-9.082462056539953E-4,0.002779982576612383,0.0022327993841220932,-0.0011655392590910196,0.001185465169934711,-0.0010336289208983847,2.312590853155901E-5,-7.438623118408334E-4,-1.775243987746459E-4,-0.002402317220306334,7.592651624387751E-4,0.0012295879811669388,-0.0010039639091701247,0.001041172993912672,-5.835121458706756E-4,-6.162523350212723E-4,-9.745764643109093E-4,-9.992782142944634E-4,-0.0020805354191300767,-0.0014872838510200381,-6.754194716146836E-4,-3.643188053198779E-4,0.0015501171874348074,8.540462586097419E-4]                   |\n",
            "|Basketball players are preparing for the next tournament               |[-0.0010287268116371707,0.0012736278702504935,0.0015355625422671438,0.0012721383303869517,-0.0019299672450870276,5.631038162391633E-4,-0.002887481497600675,9.599066979717463E-4,-3.268828149884939E-4,0.0011940652038902044,-0.0012540906376671047,-2.0655528642237188E-4,8.644377638120205E-4,-0.0017089769477024676,-8.532191161066294E-4,-0.00234069466823712,-6.89202977810055E-4,0.002192871127044782,8.926923270337284E-4,-0.0014655156643129886,-0.0012657495331950487,3.328975755721331E-4,-2.861030399799347E-4,-7.339447271078825E-4,-0.002957036625593901,0.0011468054726719856,5.50633855164051E-4,1.2343756388872863E-4,6.890888093039394E-4,-0.0012306728633120656,-1.6050968552008273E-4,0.0019458233320619911,-8.785312034888193E-4,5.85491704987362E-4,-0.0017210521386004985,0.001204365688681719,4.7299460275098684E-4,-1.4367313124239445E-4,-9.563963161781431E-4,5.307683488354087E-4,-3.5317292640684177E-4,-9.575281961588189E-4,2.0591689390130343E-4,3.1955626327544455E-4,-6.015832768753171E-4,0.00148700742283836,0.00196273441251833,-1.91229279153049E-5,9.214002406224609E-4,7.66101447516121E-4,3.117667278274894E-4,-9.416965127456933E-4,3.74330033082515E-4,8.056948892772198E-4,-4.6112734416965396E-4,0.0012167699169367552,-6.586907606106252E-4,-0.0015030639246106149,-3.3535546390339735E-5,0.0026844829786568884,-0.0011702627991326154,1.1770783457905055E-4,0.002255196776241064,-0.002145549784472678,-1.1645531048998237E-5,-3.294504713267088E-5,-3.800686914473772E-4,-4.7037422191351655E-4,-4.0262643015012147E-4,-6.554760155268014E-4,-4.871506243944168E-5,-7.025213562883437E-5,1.8083267787005752E-4,0.0013998506823554636,-0.0011871505645103754,-0.0023700292920693757,-0.0012700860854238272,-0.0012557858775835485,9.346353239379824E-4,0.0015745953598525376,-0.0022065126337110995,4.800725087989122E-4,-0.0013786063995212317,-0.00218060368206352,-6.025615264661611E-4,-9.015851770527661E-4,-0.0011001032980857417,0.0027368825860321524,-4.6267721336334944E-4,-0.0010893187107285484,-2.2012563422322274E-4,-0.0017050459515303375,-0.001104593026684597,-6.792713655158878E-4,-0.0019676531897857784,-0.0016615484841167928,4.6591814607381825E-4,-0.002198321791365743,8.856485947035254E-5,-0.0021448538056574764]|\n",
            "|Machine learning has revolutionized the way data is processed          |[-3.333411489923795E-4,0.001191999763250351,-7.79174646595493E-4,1.4138456511621672E-4,0.0016513538042393823,0.0011508587194839492,-9.938943355033794E-4,1.7646547591236109E-4,-0.0020743699606100563,-0.0012743460829369724,0.002864096527143071,-4.6573142753914E-4,-0.0035370412515476346,0.001652014092542231,-9.404550291947089E-4,-2.2348293956990042E-4,0.0014187461444331952,-0.0037023325373108187,-3.5629759076982737E-4,-9.927681336800256E-5,-2.671908393191794E-4,-1.3853233637443432E-4,-7.466650252657321E-4,-4.4501155813729076E-4,0.0025519889895804226,-0.0018769706172558167,-6.379378222239513E-4,1.8449304237340886E-4,9.92466632548409E-4,-0.0020881897847478586,-1.5774499721980342E-4,-6.298442604020238E-4,0.0012199015084964533,-0.0017589511116966605,-5.074620615535725E-4,-1.509260619059205E-5,0.002216573416565855,-1.7534816288389266E-4,-0.002117148726635302,6.527574102316672E-4,0.0022463517379947007,0.0013160128922512133,-8.353302449298401E-4,5.833663114268953E-4,0.0025286877547235536,9.93366554515281E-4,3.586754367764418E-4,0.0025639557958735773,-6.586225742163757E-4,-0.001242748519871384,-0.0011600896250456572,8.976678946055472E-4,-0.001483437757997308,-6.32605399005115E-4,-4.7778400403331034E-4,-2.4446954679054517E-4,0.001556510685380393,-0.0020136533227438727,0.001440558194493254,-5.132788355695084E-4,0.0028855764345886805,-0.0011609001473213234,-9.192895765105883E-4,-0.0012045368639519438,-7.688436890020967E-4,-0.00258184647342811,5.952294062202175E-4,1.1320311265687147E-4,0.001942871924256906,-0.0014452773539233021,1.3077730545774102E-4,0.0019394417346726791,0.0014182005349236229,0.0011150384137484555,-0.0012042794502728307,6.79840847927456E-4,-7.589964661747217E-4,-2.4384527932852507E-4,-8.235522157823045E-4,-2.580424576687316E-4,7.041612698230892E-4,-6.598940284069006E-4,0.0013037893465176844,0.001287850299074004,-0.0014444476303954918,-0.001950654036287839,0.0032962747597290822,9.874151631568868E-4,0.001410354433270792,8.451131482919056E-6,5.791367148049176E-4,4.932981052358324E-4,0.0033934144788266467,-0.00135297910310328,-0.0012538485413339608,8.926829905249178E-4,-1.200593396788463E-4,0.0011982670548604801,-3.244107162269453E-4,-1.7175296670757234E-4]        |\n",
            "|Political campaigns are gearing up for the upcoming elections          |[0.0012809745268896223,9.16089623933658E-4,-0.0019116497947834433,-2.694678652915172E-4,0.0015997117734514177,-0.0011743861250579357,-9.675617620814592E-4,-4.98025049455464E-4,7.182770408689977E-4,-6.107426364906133E-4,0.002048129541799426,0.0019432951812632382,-0.00404370496980846,-1.814402457966935E-4,8.243487682193518E-4,-0.0022365921118762343,-0.0016901631839573385,-0.0013441776136460248,0.0014431671355850995,-0.001942447398323566,3.473872144240886E-4,-5.897633265703917E-4,-0.0013882144819945099,-0.0018802040867740288,-1.0994567710440606E-4,-0.0023378583602607253,0.0012165058171376586,-2.628615824505687E-4,-0.0018570570449810476,3.10793798416853E-4,-0.0016965612769126893,6.382585444953293E-4,0.0021774549037218093,9.651564294472337E-4,-6.258837354835123E-4,-6.194920279085636E-5,-1.8392520723864436E-4,7.725054631009698E-4,-1.5100500895641746E-4,-0.002295709418831393,-2.9060780070722104E-5,0.002575479028746486,-0.002620330173522234,-5.275020725093782E-4,-0.0011540232313564049,-2.469781553372741E-4,0.0022746724556782284,-0.0015901980339549484,-0.0011609705863520503,9.450300596654416E-4,6.945821893168614E-4,-0.0010536463814787567,9.569702902808786E-4,5.380620568757877E-5,0.0028000631835311653,9.938916191458702E-5,-6.419406970962883E-4,0.0012794411042705179,-9.289094712585211E-4,0.002715071871352848,5.871827248483896E-4,-4.898659128230066E-4,-0.0017874729266623036,0.001536908419802785,-8.430897214566358E-5,-0.0011248341528698803,3.1806421466171745E-4,0.0010341142409743044,6.614576617721469E-4,-3.6358649376779797E-4,0.0012152896029874684,-0.0012317308719502762,-0.0012450104113668203,-0.0016894064727239312,0.002146188681945205,0.0016112851793877781,3.096889122389257E-4,4.781176947290078E-4,-0.002296248613856733,0.0029508176026865843,-0.002337830181932077,-7.38279614597559E-4,0.0014153725118376316,6.617706658289535E-4,3.019822179339826E-5,-0.001093372970353812,-5.3100538207218054E-5,-0.001090525113977492,-0.0013075315247988329,0.0018632772727869451,-4.2673760908655827E-4,9.495758218690753E-4,0.0011204098351299764,-0.002210391452535987,2.632283139973879E-4,5.943867960013449E-4,-8.493162458762527E-4,0.002924472116865218,-0.0021753688270109706,1.270750814001076E-4]       |\n",
            "|The football team has been training hard for the upcoming season       |[1.295776673941873E-4,0.001965506856019298,4.642234537944508E-4,1.927212676188598E-4,0.0023278837761608884,-3.335116222539606E-4,-0.0013813341123144103,-0.0018029843777185306,-8.336111883788059E-4,-3.43271565119115E-4,8.170843478486252E-4,-0.0015542309605128442,0.0010739288215215006,-2.7900901235019166E-5,-8.044842325034551E-4,-6.21273031962725E-4,5.718344085228939E-4,-4.132942073435212E-4,-5.029235132193813E-4,1.9313025404699147E-4,0.0024883189568451294,0.0010848863554808,-0.0019157538044964895,-0.0018777781903433302,-0.0015441091381944716,-6.238113443638819E-4,0.001419298816472292,0.0011188607895746827,7.371780035706857E-4,-9.00134036783129E-4,0.0013599243247881532,-1.207518313700954E-4,1.2594801470792541E-5,-6.934889048958818E-4,-9.128041128860787E-4,-0.00181565061211586,8.740529010538012E-4,0.0016895062484157581,-0.002380356832873076,-0.0011808035730306679,3.925417646920929E-4,0.0020896328593759486,-0.0012899875873699784,-6.036973791196942E-4,-1.6892228450160474E-4,-6.26974167971639E-4,0.00158293814456556,-0.0023563389938014248,-0.0015608881367370486,1.1625757906585932E-5,-0.002310515148565173,0.0013669733986413726,-3.733989433385432E-4,-3.834497862650702E-4,0.0011888383499657114,-2.0029741184165079E-4,0.0026393424486741424,0.001672289979372484,0.001102470540596793,0.0011559186435382192,-1.5039590653032064E-4,-6.751970686309505E-4,8.541960560251027E-4,-0.0014336377498693764,6.63149442213277E-4,7.181575080418648E-4,8.805708785075694E-4,4.40904265512169E-4,-0.001046117841421316,1.9217255370070535E-4,-0.0011307919145716974,0.0014821913403769333,-0.001728958624880761,-2.0985291727508107E-4,6.112502887845039E-4,-1.672127885588755E-4,3.043865241731206E-4,-0.001401963340564786,9.5729275199119E-4,0.002180787259324764,-0.0018732452541977787,-0.001273462490644306,7.431285824471463E-4,-7.059376381827557E-4,3.841894043337864E-4,0.001282440842866587,1.990736733811597E-4,0.0018298901656332114,5.514403140599218E-4,3.8895299076102674E-4,-0.0012125067878514528,0.0018653016886673868,0.001360283582471311,-0.001206511073784592,0.002025502452549214,-8.750106984128554E-4,-3.4207576148522395E-4,-3.797648629794518E-4,-6.88693136908114E-4,-0.0013936667395076559]                       |\n",
            "|International relations are being discussed in diplomatic meetings     |[7.302741287276149E-4,2.879516687244177E-4,-0.0016355791580281221,9.953095694072544E-4,9.979142574593426E-4,-5.918335635215045E-4,0.0011358118790667504,0.002232748130336404,0.0014649321325123311,3.06207686662674E-5,0.0017643968574702741,8.840247755870223E-4,0.0029062713263556363,-9.59384348243475E-4,0.0010873900493606925,8.334561251103879E-4,-7.469989359378816E-5,0.0015892953648290133,-0.001808786066249013,8.88740411028266E-4,3.3501884026918564E-4,1.1756792664527894E-4,6.937136000487954E-4,-0.0024757874663919213,-6.26059272326529E-4,0.003870992595329881,8.953994954936207E-4,5.994550883769989E-5,-0.0012342361733317375,-8.601258741691709E-5,0.0028023839346133176,-0.0014671828190330417,9.412069819518366E-4,8.332642726600171E-4,0.0032631561625748873,0.0021173383807763456,4.5733792940154676E-4,0.0011612232774496078,0.0019063486950472,0.0012350819510174916,7.633434113813565E-4,-0.002487423922866583,-5.912105320021511E-4,-0.0014773758593946695,-0.0010909184580668808,-1.796841563191265E-4,-0.0017092379741370678,-3.4283814020454886E-4,5.303520330926404E-4,2.572785597294569E-5,-0.0035250342218205335,2.1702374215237796E-4,0.001391919043089729,0.0021966016851365567,0.0011285126325674356,0.0025719276629388335,-6.610360273043626E-4,-5.338935501640662E-4,-7.701873313635589E-4,6.082059335312806E-4,5.684428237145766E-4,-0.0015995492853107863,-2.6581052225083113E-4,-0.0018167932517826558,0.0013266369816847146,-3.323270764667541E-4,-0.0015891922696027905,0.0023506031138822436,7.18798500020057E-4,3.9922308642417195E-4,-0.0024610575754195453,-3.1185594853013756E-4,0.0017267371178604663,-1.9171729218214753E-5,-7.292646449059249E-4,-6.926913323695772E-4,8.534691296517849E-5,0.002316563599742949,-0.0010712913688621483,-4.6700551174581054E-4,-3.4523326321505014E-4,-0.0011091397565905936,0.0010465170489624143,0.0011494149919599294,-8.193126413971186E-5,-0.0013998927082866431,1.6714884550310673E-4,8.908143998269225E-4,6.273839389905334E-5,-3.8593139906879516E-4,0.002222701904247515,-0.001992371294181794,4.067319678142667E-4,8.203945588320494E-4,-7.075524423271418E-4,-0.0010658768034772948,-0.0033880910137668255,-5.571959947701544E-4,0.001254346949281171,-3.1159846112132077E-4]              |\n",
            "|The president addressed the nation in a live broadcast                 |[-6.433813250623643E-4,8.042128651140957E-4,0.001824110676534474,-7.457567029632629E-4,0.0013206245610490443,0.0012379845138639212,0.0012347419156867546,3.932959662051872E-5,5.269012443022803E-4,-0.001278503891080618,6.088670110329986E-4,-0.002105456008575857,-6.903593719471247E-4,-0.0012555939290905373,-0.0015552663709968329,-0.0022924289107322695,-7.300250057596714E-4,-6.271730177104473E-4,1.7120034899562598E-4,0.0011955629801377655,-9.745252318680287E-5,-0.0016588658560067417,-0.002345738501753658,0.0014583511045202615,-3.5990874748677016E-4,4.0534697473049167E-5,-0.0010253240587189793,-0.0021623615932185205,-6.352654192596674E-4,0.0011676237591018435,-0.0010062243789434433,-3.1713640782982115E-5,-0.0022087814519181847,0.0017814260092563928,-0.0011179471970535816,3.8190833292901517E-4,0.0010482143494300546,4.7480174107477073E-4,0.0010068010888062418,8.029303164221347E-4,0.0020899977011140437,-0.0012181398749817164,0.0015600486505718437,-1.1349604465067388E-4,5.065032746642828E-5,-0.0011947911116294563,-3.3817929215729235E-5,8.14623001497239E-4,-8.997113909572364E-5,2.860095526557416E-4,0.002420593588612974,6.451036082580686E-4,0.0021451136854011565,0.001760659005958587,9.013019036501646E-4,-4.8254572320729496E-4,-2.249133656732738E-4,-0.0025036739185452465,8.581393165513874E-4,0.0011040505254641176,-4.334276774898172E-4,4.165486083365977E-4,9.738678112626077E-4,0.0012320685171289371,-5.220166058279574E-4,-7.296356896404178E-4,0.0017623830237425864,-0.0015931117814034224,-0.0014003522228449583,-0.0014164186293783134,-0.0016338752117007972,1.391635974869132E-4,0.0013873347430489959,-4.587308678310365E-4,2.420325763523579E-5,-2.9787402017973364E-4,1.761591760441661E-4,-0.0028250072733499113,0.0016637402353808285,0.001300599693786353,0.0010295218613464387,6.98136622668244E-4,-0.0010586214484646916,-0.003299800166860223,-5.104440031573177E-4,0.0014183691586367787,-9.706400567665697E-4,0.003682854259386659,3.121590700175148E-4,-6.107690045610071E-4,-0.002242793538607657,-2.462529111653566E-4,8.727020147489384E-4,0.0017890018643811345,1.4978276449255647E-4,-2.1730730950366708E-4,1.9706189923454078E-4,-0.0014601231014239602,-9.514394216239453E-4,2.8936358867213133E-4] |\n",
            "|Tennis players are practicing for the grand slam matches               |[8.677949590492062E-4,-3.495771379675716E-4,0.0023973624338395894,3.698272873104239E-4,0.002383304041965554,0.0012525185738923028,2.57698343678688E-4,0.0023827517773800837,-0.0018261674219199144,-0.0020313482867398607,-0.0012038080725081575,-0.0011682460511413713,7.412419654428959E-5,0.0026270418311469257,-7.662489369977266E-4,-6.92736022756435E-4,0.0014706278840700784,0.0017286061617293549,1.298253967737158E-4,0.0012147546124955018,-0.0027956636816573637,-7.29771883925423E-4,-3.9712334303961444E-4,-7.76486510100464E-5,-0.0011642927759870265,0.0013047835333660864,-4.891879507340491E-4,0.001887130308508252,9.1468154763182E-4,0.0014340851145486035,8.855024740720788E-6,-5.401958284589151E-4,-6.61631531935806E-4,-0.003230174498942991,2.9757374431937933E-4,-0.001075281218315164,6.42198821878992E-4,0.0014142060487453514,6.7502012825571E-5,6.67560981431355E-4,3.316288433173516E-4,0.0015762764766501882,-0.0010331728941916176,-8.453442036019017E-4,-0.0016446911031380296,6.207733191937829E-4,0.001768203122386088,4.4732142123393714E-4,2.2854802470343807E-4,9.653033630456775E-4,0.001520381701993756,0.0011736803765719135,-0.0015572186093777418,0.0010407261628036697,3.583614411581948E-4,9.77383538459738E-4,-1.2171821435913444E-4,0.0013718276992828273,-0.001763432538912942,9.203961429496605E-4,-0.0015017619589343667,6.694636734512944E-4,-7.043497171252966E-4,-3.571745667917033E-4,-5.094208275598551E-4,0.0019089552224613726,-4.8206159650969005E-4,0.001713743399401816,-0.0012769278255291283,-4.450575458273912E-4,2.420206437818706E-4,0.001479148275393527,1.1463197006378323E-4,0.0027410117036197335,-0.0032194822221451127,-7.480962085537612E-4,-0.002222829983414461,4.7183046505476034E-4,3.432912732629726E-4,0.0011144337865213552,-6.956795890194674E-4,-0.0014857064258346022,0.001479447533104879,6.008098425809294E-4,-5.4504082072526217E-5,0.0014052670643044014,0.0015090054876054637,2.7877405227627605E-4,9.320671670138836E-4,0.0010214726062258705,-0.0016236868978012353,0.0017467403570966173,-8.66307610219034E-4,-0.0011912064146599732,2.4432644568150863E-4,3.9960532740224153E-4,0.0023583748734381516,3.5359213749567666E-6,-0.0021697274739077934,6.873333283389608E-4]                       |\n",
            "|Machine learning has revolutionized the way data is processed          |[-3.333411489923795E-4,0.001191999763250351,-7.79174646595493E-4,1.4138456511621672E-4,0.0016513538042393823,0.0011508587194839492,-9.938943355033794E-4,1.7646547591236109E-4,-0.0020743699606100563,-0.0012743460829369724,0.002864096527143071,-4.6573142753914E-4,-0.0035370412515476346,0.001652014092542231,-9.404550291947089E-4,-2.2348293956990042E-4,0.0014187461444331952,-0.0037023325373108187,-3.5629759076982737E-4,-9.927681336800256E-5,-2.671908393191794E-4,-1.3853233637443432E-4,-7.466650252657321E-4,-4.4501155813729076E-4,0.0025519889895804226,-0.0018769706172558167,-6.379378222239513E-4,1.8449304237340886E-4,9.92466632548409E-4,-0.0020881897847478586,-1.5774499721980342E-4,-6.298442604020238E-4,0.0012199015084964533,-0.0017589511116966605,-5.074620615535725E-4,-1.509260619059205E-5,0.002216573416565855,-1.7534816288389266E-4,-0.002117148726635302,6.527574102316672E-4,0.0022463517379947007,0.0013160128922512133,-8.353302449298401E-4,5.833663114268953E-4,0.0025286877547235536,9.93366554515281E-4,3.586754367764418E-4,0.0025639557958735773,-6.586225742163757E-4,-0.001242748519871384,-0.0011600896250456572,8.976678946055472E-4,-0.001483437757997308,-6.32605399005115E-4,-4.7778400403331034E-4,-2.4446954679054517E-4,0.001556510685380393,-0.0020136533227438727,0.001440558194493254,-5.132788355695084E-4,0.0028855764345886805,-0.0011609001473213234,-9.192895765105883E-4,-0.0012045368639519438,-7.688436890020967E-4,-0.00258184647342811,5.952294062202175E-4,1.1320311265687147E-4,0.001942871924256906,-0.0014452773539233021,1.3077730545774102E-4,0.0019394417346726791,0.0014182005349236229,0.0011150384137484555,-0.0012042794502728307,6.79840847927456E-4,-7.589964661747217E-4,-2.4384527932852507E-4,-8.235522157823045E-4,-2.580424576687316E-4,7.041612698230892E-4,-6.598940284069006E-4,0.0013037893465176844,0.001287850299074004,-0.0014444476303954918,-0.001950654036287839,0.0032962747597290822,9.874151631568868E-4,0.001410354433270792,8.451131482919056E-6,5.791367148049176E-4,4.932981052358324E-4,0.0033934144788266467,-0.00135297910310328,-0.0012538485413339608,8.926829905249178E-4,-1.200593396788463E-4,0.0011982670548604801,-3.244107162269453E-4,-1.7175296670757234E-4]        |\n",
            "|Stock trading has become a popular way to build wealth                 |[6.671033333986998E-4,0.0014831343703138242,0.002369963082726047,8.99329232717199E-4,-5.508164093563599E-4,0.0011464941988898706,2.5394527308110677E-4,5.460163104414408E-4,4.1192703481231414E-4,-2.028236714457827E-4,-4.371046213366623E-4,-3.408864597856466E-4,3.6954538830156835E-4,7.946648734754749E-4,-2.2969544806983322E-4,0.0014411199039646556,5.249652479376112E-4,4.258094122633338E-5,2.0431929234681384E-4,-0.0013105238821091395,7.300944499937551E-4,-9.320418841005968E-4,-0.002212386719682919,5.790291106677614E-4,0.001653083417165492,-0.0012438642983657441,-3.5491143353283405E-4,-4.5474801611687455E-5,-1.0475164994464388E-4,-3.49495855126796E-4,-6.074317373401884E-4,-0.0012873601101871046,-0.002739524601825646,-0.0017730130348354578,3.2550294417887926E-4,-7.229318310107503E-4,0.0021071924295808587,9.76602268305474E-4,-0.001998035270454628,-2.9917699118543945E-4,0.0016854871334674368,-8.725179606179673E-4,-6.533566733456349E-4,0.0010273792701939652,-1.712189904148025E-4,-0.001796591661072203,0.001123085692857525,0.001547218408502106,4.292015655664727E-4,-9.276430979038455E-4,-0.0014439724202800009,-7.020479783282748E-4,-2.1017257988985093E-4,-0.001586286284561668,-2.3149012226245498E-4,7.660577456200761E-4,-8.352735896031455E-4,-4.080500387187515E-4,8.151176423000703E-4,-8.5621395347906E-4,-0.001346644030750862,2.0316824624647519E-4,-0.0017223125656268426,0.0010979486708362985,-0.0017026292501083973,3.7187085919348253E-4,0.0019948193585150875,3.76161202439107E-4,-7.181145649935518E-4,2.581966359035245E-4,-1.8375230553959097E-4,-9.298603482810514E-4,-3.5572154891789456E-5,0.0010421929099330943,-8.305451649773334E-4,9.111588587984443E-5,0.002442197807665382,4.026934038847685E-4,-8.03690536745957E-4,0.0026076503064749496,-9.799812853868517E-4,0.001349254760758153,-5.140757584740641E-4,-0.001259485342805939,-2.220578524949295E-4,0.0010016447299027017,0.0010958446405961045,-9.566217527857848E-4,-0.002574607027262183,0.001142565922756538,-8.472528092430105E-4,0.001564960741753956,0.001146879354824445,3.094699100724288E-4,-0.0012945285676063836,-5.624209214667124E-4,5.632400113557066E-4,-0.0014793702866882086,-3.825644962489605E-4,4.3281562726146404E-4]                 |\n",
            "|5G technology is expected to significantly improve communication speeds|[-6.43535001602556E-4,-0.0017375447704190653,3.4695936067562016E-4,0.0016917081458294497,0.0015959159271525484,-5.359996950054275E-4,2.1021899634173936E-4,8.251895612504865E-4,1.7751987408181386E-5,-3.7012394750490785E-4,9.542658060256923E-4,-1.3678401176418577E-4,0.0011832197196781635,3.4764399086790424E-4,-6.974242860451341E-4,-0.0010710337914393417,-8.147190632631203E-4,9.123187030906722E-4,7.340487250725605E-5,0.0016477143924151147,6.356493270556841E-4,3.756030273507349E-4,0.00239987185757075,0.0010435537769808434,0.001184576827134671,0.0010203796139519128,1.425395395407187E-4,9.701449536286027E-5,-8.758466324902006E-4,-1.1793825667284961E-4,0.0021799374371767044,-0.0015941259667410382,0.001587451115483418,5.852266414357083E-4,1.9501144249391343E-4,9.17219220095181E-4,2.451057080179453E-4,-9.90858384674149E-4,9.571800889846469E-4,-5.877851175942591E-5,4.0680905138807636E-4,1.2933030952158982E-4,9.066501266456076E-4,-0.0017007508182099887,7.508376812828438E-4,-0.00156413612421602,9.785049769561738E-4,-0.0010121004722480262,-6.679601834288665E-4,2.7336258062859997E-4,-7.787653760585402E-4,-0.0012943695182912052,-0.0026444070639887025,0.001606789425880249,0.001527266393947814,-3.633558517321944E-4,9.393057469943804E-4,7.292587043983595E-4,0.0015633040664917123,3.044298251292535E-4,-8.343186202962118E-4,-1.641376459571932E-4,1.4649013922150646E-4,6.943492917343974E-4,0.002351001750087432,9.99239888707442E-4,-4.964631017563598E-4,-6.712376572457807E-4,0.0019535556410638882,7.935812463983893E-4,-4.97958602084379E-4,1.8936548648136003E-5,0.0013524554194321223,0.0020803685349944446,-2.980441245849111E-4,-1.5535919893799082E-4,-4.839288636243769E-4,0.0020221771472798927,7.386562522567276E-4,8.535608150331037E-4,6.734399924295888E-4,-6.306208670139313E-4,-0.0013484291183496159,-9.796631722045796E-4,1.1337966030363791E-4,2.3314805002883077E-4,-1.980682968028954E-4,-5.1943605233516E-4,-0.0012601192655503316,-0.001184871931660122,0.0012248504769689003,-5.945639900996216E-4,-1.6918450793517486E-4,0.0020450264720628703,-0.0012273299092027757,-0.0012171928704317126,0.00214887411233836,-0.0017438907359194542,4.387050721561536E-4,0.0014309594740292855]                          |\n",
            "|Political campaigns are gearing up for the upcoming elections          |[0.0012809745268896223,9.16089623933658E-4,-0.0019116497947834433,-2.694678652915172E-4,0.0015997117734514177,-0.0011743861250579357,-9.675617620814592E-4,-4.98025049455464E-4,7.182770408689977E-4,-6.107426364906133E-4,0.002048129541799426,0.0019432951812632382,-0.00404370496980846,-1.814402457966935E-4,8.243487682193518E-4,-0.0022365921118762343,-0.0016901631839573385,-0.0013441776136460248,0.0014431671355850995,-0.001942447398323566,3.473872144240886E-4,-5.897633265703917E-4,-0.0013882144819945099,-0.0018802040867740288,-1.0994567710440606E-4,-0.0023378583602607253,0.0012165058171376586,-2.628615824505687E-4,-0.0018570570449810476,3.10793798416853E-4,-0.0016965612769126893,6.382585444953293E-4,0.0021774549037218093,9.651564294472337E-4,-6.258837354835123E-4,-6.194920279085636E-5,-1.8392520723864436E-4,7.725054631009698E-4,-1.5100500895641746E-4,-0.002295709418831393,-2.9060780070722104E-5,0.002575479028746486,-0.002620330173522234,-5.275020725093782E-4,-0.0011540232313564049,-2.469781553372741E-4,0.0022746724556782284,-0.0015901980339549484,-0.0011609705863520503,9.450300596654416E-4,6.945821893168614E-4,-0.0010536463814787567,9.569702902808786E-4,5.380620568757877E-5,0.0028000631835311653,9.938916191458702E-5,-6.419406970962883E-4,0.0012794411042705179,-9.289094712585211E-4,0.002715071871352848,5.871827248483896E-4,-4.898659128230066E-4,-0.0017874729266623036,0.001536908419802785,-8.430897214566358E-5,-0.0011248341528698803,3.1806421466171745E-4,0.0010341142409743044,6.614576617721469E-4,-3.6358649376779797E-4,0.0012152896029874684,-0.0012317308719502762,-0.0012450104113668203,-0.0016894064727239312,0.002146188681945205,0.0016112851793877781,3.096889122389257E-4,4.781176947290078E-4,-0.002296248613856733,0.0029508176026865843,-0.002337830181932077,-7.38279614597559E-4,0.0014153725118376316,6.617706658289535E-4,3.019822179339826E-5,-0.001093372970353812,-5.3100538207218054E-5,-0.001090525113977492,-0.0013075315247988329,0.0018632772727869451,-4.2673760908655827E-4,9.495758218690753E-4,0.0011204098351299764,-0.002210391452535987,2.632283139973879E-4,5.943867960013449E-4,-8.493162458762527E-4,0.002924472116865218,-0.0021753688270109706,1.270750814001076E-4]       |\n",
            "|Machine learning has revolutionized the way data is processed          |[-3.333411489923795E-4,0.001191999763250351,-7.79174646595493E-4,1.4138456511621672E-4,0.0016513538042393823,0.0011508587194839492,-9.938943355033794E-4,1.7646547591236109E-4,-0.0020743699606100563,-0.0012743460829369724,0.002864096527143071,-4.6573142753914E-4,-0.0035370412515476346,0.001652014092542231,-9.404550291947089E-4,-2.2348293956990042E-4,0.0014187461444331952,-0.0037023325373108187,-3.5629759076982737E-4,-9.927681336800256E-5,-2.671908393191794E-4,-1.3853233637443432E-4,-7.466650252657321E-4,-4.4501155813729076E-4,0.0025519889895804226,-0.0018769706172558167,-6.379378222239513E-4,1.8449304237340886E-4,9.92466632548409E-4,-0.0020881897847478586,-1.5774499721980342E-4,-6.298442604020238E-4,0.0012199015084964533,-0.0017589511116966605,-5.074620615535725E-4,-1.509260619059205E-5,0.002216573416565855,-1.7534816288389266E-4,-0.002117148726635302,6.527574102316672E-4,0.0022463517379947007,0.0013160128922512133,-8.353302449298401E-4,5.833663114268953E-4,0.0025286877547235536,9.93366554515281E-4,3.586754367764418E-4,0.0025639557958735773,-6.586225742163757E-4,-0.001242748519871384,-0.0011600896250456572,8.976678946055472E-4,-0.001483437757997308,-6.32605399005115E-4,-4.7778400403331034E-4,-2.4446954679054517E-4,0.001556510685380393,-0.0020136533227438727,0.001440558194493254,-5.132788355695084E-4,0.0028855764345886805,-0.0011609001473213234,-9.192895765105883E-4,-0.0012045368639519438,-7.688436890020967E-4,-0.00258184647342811,5.952294062202175E-4,1.1320311265687147E-4,0.001942871924256906,-0.0014452773539233021,1.3077730545774102E-4,0.0019394417346726791,0.0014182005349236229,0.0011150384137484555,-0.0012042794502728307,6.79840847927456E-4,-7.589964661747217E-4,-2.4384527932852507E-4,-8.235522157823045E-4,-2.580424576687316E-4,7.041612698230892E-4,-6.598940284069006E-4,0.0013037893465176844,0.001287850299074004,-0.0014444476303954918,-0.001950654036287839,0.0032962747597290822,9.874151631568868E-4,0.001410354433270792,8.451131482919056E-6,5.791367148049176E-4,4.932981052358324E-4,0.0033934144788266467,-0.00135297910310328,-0.0012538485413339608,8.926829905249178E-4,-1.200593396788463E-4,0.0011982670548604801,-3.244107162269453E-4,-1.7175296670757234E-4]        |\n",
            "|Investors are looking for high-yield bonds in the current market       |[0.0015693599125370383,0.0017730728268361418,0.0019075481686741114,-3.010022919625044E-5,-0.0013101442309562117,-0.0031420307350344956,1.3281430195396143E-4,-1.8856505630537868E-4,0.0011885268613696098,-7.354138263811667E-5,0.0010428816992013403,6.026312888328296E-4,0.0022147108344749236,0.002243922557681799,0.002314655325487062,0.0011035002244170755,-0.0010831076360773295,-0.0023874384642113,-0.00199367981016015,0.0010335821425542235,-8.427822031080723E-4,-0.0011452853019970157,0.0016996611884678714,-4.5494719718893367E-4,-7.98226964737599E-4,0.001206994221623366,-6.343013471147665E-5,-6.997335003688931E-5,0.0011234205157961696,-3.3171874626229203E-4,9.961432903461778E-4,-0.001140827410078297,0.0010801717574698462,0.001402777904938072,2.6683059210578597E-4,-7.187225467835863E-4,-0.001423429697751999,-9.759776100205878E-4,-0.0010467278286038586,-0.0014873708714731038,-6.057007509904603E-4,-0.0018533634720370173,1.9108723305786648E-4,-6.21406555486222E-4,-5.975401788115656E-4,-1.471000286983326E-4,0.0012387273842856907,3.2367372962956625E-4,0.001346114978029315,-5.188231637779002E-4,5.115211388329044E-4,-0.0018451577319259134,0.0017437551287002861,4.885312325010697E-4,-4.2485856101848185E-4,-0.0016079489917804797,0.0013744172004711193,0.001743808388710022,4.529654931199426E-4,0.0012350628894637339,-8.44709468462194E-4,4.760347947012633E-4,0.0011835880383538702,-8.19700390517634E-4,5.006100206325451E-4,2.0295831685264903E-4,7.248999124082426E-4,0.001200132460022966,1.342912243368725E-4,0.0019851018344828235,-1.1901047158365448E-4,6.159258967575927E-4,0.0012733363910228945,0.002083645192518209,9.370165110643331E-4,-0.0022836267889942974,-6.724005797877908E-4,-1.9706931683079648E-4,-0.0016530688717466546,-4.1220043203793466E-4,8.210251617128961E-4,2.4687316423902905E-4,-4.4741378709053E-4,2.495799368868271E-4,0.0026934683798269057,8.917306840885431E-4,-5.922995527119685E-4,1.22111556265736E-4,-0.002498223834360639,-0.0010138030793314101,-9.575198588815207E-4,-0.0024717931519262493,0.0021873998339287937,-6.243146296280125E-4,8.463489066343755E-4,0.0019177990810324748,0.001089009039181595,-5.396542380064299E-4,-9.032950232115884E-4,-2.472219057381153E-5]                |\n",
            "|Quantum computing holds promise for solving complex problems           |[3.682863898575306E-4,-1.8418438100655164E-4,-6.093200229640518E-4,-1.6152513645855443E-4,-0.00123085781732308,6.353285633459953E-4,4.514923036497618E-4,-7.937600187558148E-4,0.001955549931153655,-0.0013760811707470566,-0.0013958097219334115,0.001713094632058138,6.479054406684424E-4,0.0028307420600737843,9.844084769221287E-4,-0.0016992070845195223,-3.0418818849804144E-4,-8.413858761611794E-4,-7.692460723254563E-4,6.99903695411714E-5,-9.193232274680797E-4,8.289339312536218E-4,8.823791078092264E-4,0.0014618882383469359,-2.3956135347751633E-4,7.843271513203425E-4,0.0021357916495097534,0.0011189871376180755,-0.0010614869014326748,0.0018695294940178947,-6.571976201874869E-4,-4.5313068507571837E-4,0.0010094430347505423,-9.508045124156134E-4,2.054083826286452E-4,1.8631747973683687E-4,-2.970813657157123E-4,0.0016835764981806278,1.582943056876372E-4,-0.001408837835437485,-2.5455239769403955E-4,0.0013629451755800151,-6.979791464151016E-4,-6.955376427088465E-5,9.219931505088294E-4,0.0014635978482796677,0.0015554190280714203,-3.758424261052693E-4,0.0012426308489271573,6.239229488918291E-4,-2.5677024885745984E-4,0.001699025383069446,0.002204848021002752,0.001193757401779294,0.0019045790291524359,-0.0020642042509280145,-0.001404400765230613,2.1691898499349397E-4,-0.0010642411445067929,0.00172105932766239,1.3939473345609646E-4,9.540210012346506E-4,1.6564227241490568E-4,8.166333198979763E-4,2.8803141114102407E-4,0.0027955932782788295,-0.00113258499186486,3.914957425357508E-4,-5.335388694740166E-4,-6.852115553296503E-4,0.00253214907466567,9.747630517397607E-4,-2.4663542197751146E-4,-3.701650483500478E-4,3.792617603072098E-4,0.0014250272236365292,7.538902573287487E-4,2.8332810117197884E-4,-3.5687433722029837E-4,0.0012369082313463356,-0.0015496726014784404,-2.9457443244090034E-4,-0.001140855618619493,-5.509626644197851E-4,0.0012301775443899843,8.64665640360077E-4,-0.00129224280161517,3.1709542963653803E-4,-0.002197619494316833,-2.496029483154416E-4,-8.135630476837312E-4,-9.638478098038052E-4,-5.268644391825156E-4,8.979056271657879E-4,-0.0016111702591712984,4.677821915330631E-4,2.120561881123909E-4,-0.001271575057346906,-9.036790413249815E-4,-8.23430683729904E-4]                     |\n",
            "|Cloud computing is becoming increasingly important for businesses      |[-8.568419192063932E-4,0.0022805496507013836,-3.405211585535047E-4,-0.0014351826588002343,-3.2015523174777627E-4,-4.893859149888158E-4,-0.001366993577297156,4.655914575171967E-4,-0.0015440638041278967,1.6657425536929318E-4,0.0015178834922456492,0.0016569029442810763,6.446172289239863E-4,0.0010390128954895772,0.00180585723137483,-6.654702301602811E-4,-0.0023357506967537725,-8.22250876808539E-4,-4.140625292166078E-4,-2.3574745864607394E-4,-0.0021132296339298287,0.002195505522346745,0.0010450573463458568,0.0023130890234218287,8.062398798453311E-4,0.003431771183386445,0.0011902519375629101,-1.8229830311611295E-4,5.03210527919388E-4,0.001642005459871143,-8.090385769416267E-4,0.0013236168500346441,-8.245432424397828E-4,-9.680986501431713E-4,-4.942505620419979E-4,-9.021007960351805E-4,-8.987802624081571E-4,-0.0020588424328404167,0.001696703679044731,-3.340264083817601E-5,6.834972058034812E-4,2.7446815511211753E-4,2.3707831860519946E-4,-0.0014447150703441971,8.542765038631235E-4,0.0013277457089012992,2.628985481957594E-4,2.520736167449892E-4,-5.06054008534799E-4,-0.0016673116867120066,0.0015624135097217124,-8.09947814559564E-4,1.981316794020434E-4,9.654814881893495E-4,0.0016553261569545914,-0.0023525977740064263,-6.451988107680032E-4,-0.002401656131648148,-0.002771868802180203,5.832508468301967E-4,-9.751282826376457E-4,-0.00125800521588341,0.0017108941513773364,2.605680686732133E-4,8.878758647673142E-4,-0.001589568853887613,-0.002324453462885382,-0.0015450791494610407,0.001061966290459774,4.935387357060487E-4,-0.0016216653554389873,0.001214779457465435,7.358874136116356E-4,5.621941430338968E-4,0.002881703306532775,0.0021126855281181633,-9.082462056539953E-4,0.002779982576612383,0.0022327993841220932,-0.0011655392590910196,0.001185465169934711,-0.0010336289208983847,2.312590853155901E-5,-7.438623118408334E-4,-1.775243987746459E-4,-0.002402317220306334,7.592651624387751E-4,0.0012295879811669388,-0.0010039639091701247,0.001041172993912672,-5.835121458706756E-4,-6.162523350212723E-4,-9.745764643109093E-4,-9.992782142944634E-4,-0.0020805354191300767,-0.0014872838510200381,-6.754194716146836E-4,-3.643188053198779E-4,0.0015501171874348074,8.540462586097419E-4]                   |\n",
            "|The Formula 1 race track is set to host the next grand prix            |[-8.129372258230837E-4,-2.4175060227409832E-4,9.184069866831931E-4,5.184351919322378E-4,4.40259787460996E-6,-4.4032411986134114E-4,1.9189351587556303E-4,-6.714226215586272E-4,-0.0022246728314914634,-0.0010295737948682574,9.131975174467596E-6,-0.0017729671348610686,5.057823792513873E-4,0.001144069803154303,-7.540815794426533E-4,-5.471574194315407E-4,-0.0015928394536280797,5.4094652619419823E-5,-3.292365258352624E-4,-9.963377023167494E-4,-2.022154803853482E-4,0.001155235843422512,-8.353043282719833E-4,-5.522835466157023E-4,-3.587203100323677E-4,5.818729761004861E-4,-9.723039240472846E-4,-8.945485072520871E-4,5.686666506032149E-4,0.0014603982563130558,-1.0883170923787272E-4,0.002657889634267323,-0.0022744460341831045,4.217556917056855E-4,-0.001464256874492599,3.9516952044020093E-4,-3.141906280587945E-4,0.0010198665566147408,3.973676393798087E-4,-1.8030500036224516E-4,0.001029258886572077,-2.6298282884656347E-4,0.0012526288434552648,-0.0018331885900503644,8.531782077625394E-4,9.80809415017979E-4,9.297632835417364E-4,0.0014719133355861737,-1.4757705826519264E-4,2.554159469178153E-4,-9.869722448962016E-4,-4.294285968676882E-4,0.0014660694610534443,-1.6396617704433284E-4,0.0010452025906286305,-6.798334652557969E-4,-0.0014050893498481147,-0.002041611542356097,-0.0012292640328976428,8.414209587499499E-4,-7.922693556692037E-4,-0.001130730275892549,3.4052522904756996E-5,-3.4733069090483086E-6,-0.001906990542516319,-7.892893497935599E-4,9.778160577601132E-4,-1.2829826704950797E-4,-0.0016734756775096885,-3.9438740350306034E-4,-0.00202941754186112,0.00103549505971993,-5.884851303158534E-4,-1.2432650611218478E-4,-5.040021480656125E-5,2.7166781688316E-4,-4.4277619842129445E-4,-0.0011946335305563277,-0.0013611761840163833,0.0013159369635913107,2.9851521442954737E-4,2.577537800081902E-4,-8.12713168367433E-4,-2.7950769031627308E-5,-5.6295571590049396E-5,-0.001873144220250348,0.0012376329000795118,1.6081871257887945E-6,0.0013099983722592392,0.0018857202376239002,-6.251575994408793E-4,-0.001344108818254123,-0.0017019523333551155,6.695627105525798E-4,7.128732637890304E-4,-3.309103582675258E-5,0.002568203153108091,-1.1276792631381087E-4,2.9165895345310367E-4,-5.249136334492101E-4]      |\n",
            "|Financial experts are advising on diversifying investment portfolios   |[0.0019645205854127803,-1.2013966140026847E-4,-5.159477004781365E-4,0.0018672187252377626,-0.0017179949906373317,3.377047833055258E-4,1.4793782853909457E-4,1.2824204653346288E-4,-0.001422334700085533,4.334711460008596E-4,-9.331281228999917E-4,1.8712746289869148E-4,6.46788864590538E-4,8.464035830305268E-4,-0.0013870581921461658,-0.0020720613053223738,-2.2311413583035268E-5,6.843007771143068E-4,-9.610614603540549E-4,-0.001002317692230766,7.518787830728494E-4,4.301477844516436E-4,8.127753001948197E-5,-0.002284942485857755,-9.338878250370423E-4,-0.001274601173160287,-0.0012357757817274735,2.459317911416292E-4,1.7432408943326055E-4,0.0012244623261115823,-0.0014814219903200865,-6.959034775112134E-4,-0.002316230025220041,-4.4734752736985683E-4,-6.523676347569562E-4,3.5836441384162754E-4,6.71718056158473E-5,-3.230829994815091E-4,-1.310738540875415E-4,-3.7244629675114993E-4,2.4066372619320947E-4,-2.861923324720313E-4,-0.0017667468625101415,0.001331268230084485,-7.298362712996701E-6,-4.378309483096624E-4,0.0011148421835969202,9.805434868515779E-4,9.92819647459934E-4,7.483452306284258E-4,-7.295182440429926E-4,5.17995169502683E-4,-6.458207887286941E-6,2.611322148974674E-4,-6.578878965228796E-4,3.440389603686829E-4,5.319674964994192E-4,-0.0015162803465500474,-4.0037430881056935E-4,1.7778951829920212E-4,3.33570836422344E-5,-0.0016358895130300273,0.0028240461639749506,-0.0016384526582745214,4.977456701453775E-4,1.209508627653122E-4,8.626814815215766E-5,0.0011494472225119048,0.002387486276954102,-6.412586274867256E-4,0.0010061826130064824,-0.0022664141773323836,7.462242501787841E-4,7.057539381397266E-4,0.0010175271697031953,-0.0023079752063495107,-5.230322324981291E-4,4.133155889576301E-4,-2.75594720733352E-4,0.0013195825546669462,-2.878830030870934E-4,-0.0016598393170473476,-0.0016889324178919196,-0.0011366006801836193,-8.58377490658313E-4,-3.942633920814842E-4,6.764162705318691E-4,-0.0010590597230475396,-2.4273066082969308E-4,0.0015228824922814965,3.097709850408137E-5,0.0010422163953383763,-0.0020705514713578546,-0.0016668346361257136,-0.0018851706990972161,2.608529757708311E-5,1.6270294630279142E-4,-6.914266753786553E-4,-0.0012069377698935568,0.001049779582293316]             |\n",
            "|Stock trading has become a popular way to build wealth                 |[6.671033333986998E-4,0.0014831343703138242,0.002369963082726047,8.99329232717199E-4,-5.508164093563599E-4,0.0011464941988898706,2.5394527308110677E-4,5.460163104414408E-4,4.1192703481231414E-4,-2.028236714457827E-4,-4.371046213366623E-4,-3.408864597856466E-4,3.6954538830156835E-4,7.946648734754749E-4,-2.2969544806983322E-4,0.0014411199039646556,5.249652479376112E-4,4.258094122633338E-5,2.0431929234681384E-4,-0.0013105238821091395,7.300944499937551E-4,-9.320418841005968E-4,-0.002212386719682919,5.790291106677614E-4,0.001653083417165492,-0.0012438642983657441,-3.5491143353283405E-4,-4.5474801611687455E-5,-1.0475164994464388E-4,-3.49495855126796E-4,-6.074317373401884E-4,-0.0012873601101871046,-0.002739524601825646,-0.0017730130348354578,3.2550294417887926E-4,-7.229318310107503E-4,0.0021071924295808587,9.76602268305474E-4,-0.001998035270454628,-2.9917699118543945E-4,0.0016854871334674368,-8.725179606179673E-4,-6.533566733456349E-4,0.0010273792701939652,-1.712189904148025E-4,-0.001796591661072203,0.001123085692857525,0.001547218408502106,4.292015655664727E-4,-9.276430979038455E-4,-0.0014439724202800009,-7.020479783282748E-4,-2.1017257988985093E-4,-0.001586286284561668,-2.3149012226245498E-4,7.660577456200761E-4,-8.352735896031455E-4,-4.080500387187515E-4,8.151176423000703E-4,-8.5621395347906E-4,-0.001346644030750862,2.0316824624647519E-4,-0.0017223125656268426,0.0010979486708362985,-0.0017026292501083973,3.7187085919348253E-4,0.0019948193585150875,3.76161202439107E-4,-7.181145649935518E-4,2.581966359035245E-4,-1.8375230553959097E-4,-9.298603482810514E-4,-3.5572154891789456E-5,0.0010421929099330943,-8.305451649773334E-4,9.111588587984443E-5,0.002442197807665382,4.026934038847685E-4,-8.03690536745957E-4,0.0026076503064749496,-9.799812853868517E-4,0.001349254760758153,-5.140757584740641E-4,-0.001259485342805939,-2.220578524949295E-4,0.0010016447299027017,0.0010958446405961045,-9.566217527857848E-4,-0.002574607027262183,0.001142565922756538,-8.472528092430105E-4,0.001564960741753956,0.001146879354824445,3.094699100724288E-4,-0.0012945285676063836,-5.624209214667124E-4,5.632400113557066E-4,-0.0014793702866882086,-3.825644962489605E-4,4.3281562726146404E-4]                 |\n",
            "|Stock trading has become a popular way to build wealth                 |[6.671033333986998E-4,0.0014831343703138242,0.002369963082726047,8.99329232717199E-4,-5.508164093563599E-4,0.0011464941988898706,2.5394527308110677E-4,5.460163104414408E-4,4.1192703481231414E-4,-2.028236714457827E-4,-4.371046213366623E-4,-3.408864597856466E-4,3.6954538830156835E-4,7.946648734754749E-4,-2.2969544806983322E-4,0.0014411199039646556,5.249652479376112E-4,4.258094122633338E-5,2.0431929234681384E-4,-0.0013105238821091395,7.300944499937551E-4,-9.320418841005968E-4,-0.002212386719682919,5.790291106677614E-4,0.001653083417165492,-0.0012438642983657441,-3.5491143353283405E-4,-4.5474801611687455E-5,-1.0475164994464388E-4,-3.49495855126796E-4,-6.074317373401884E-4,-0.0012873601101871046,-0.002739524601825646,-0.0017730130348354578,3.2550294417887926E-4,-7.229318310107503E-4,0.0021071924295808587,9.76602268305474E-4,-0.001998035270454628,-2.9917699118543945E-4,0.0016854871334674368,-8.725179606179673E-4,-6.533566733456349E-4,0.0010273792701939652,-1.712189904148025E-4,-0.001796591661072203,0.001123085692857525,0.001547218408502106,4.292015655664727E-4,-9.276430979038455E-4,-0.0014439724202800009,-7.020479783282748E-4,-2.1017257988985093E-4,-0.001586286284561668,-2.3149012226245498E-4,7.660577456200761E-4,-8.352735896031455E-4,-4.080500387187515E-4,8.151176423000703E-4,-8.5621395347906E-4,-0.001346644030750862,2.0316824624647519E-4,-0.0017223125656268426,0.0010979486708362985,-0.0017026292501083973,3.7187085919348253E-4,0.0019948193585150875,3.76161202439107E-4,-7.181145649935518E-4,2.581966359035245E-4,-1.8375230553959097E-4,-9.298603482810514E-4,-3.5572154891789456E-5,0.0010421929099330943,-8.305451649773334E-4,9.111588587984443E-5,0.002442197807665382,4.026934038847685E-4,-8.03690536745957E-4,0.0026076503064749496,-9.799812853868517E-4,0.001349254760758153,-5.140757584740641E-4,-0.001259485342805939,-2.220578524949295E-4,0.0010016447299027017,0.0010958446405961045,-9.566217527857848E-4,-0.002574607027262183,0.001142565922756538,-8.472528092430105E-4,0.001564960741753956,0.001146879354824445,3.094699100724288E-4,-0.0012945285676063836,-5.624209214667124E-4,5.632400113557066E-4,-0.0014793702866882086,-3.825644962489605E-4,4.3281562726146404E-4]                 |\n",
            "+-----------------------------------------------------------------------+------------------------------------------------------------------------------------------------------------------------------------------------------------------------------------------------------------------------------------------------------------------------------------------------------------------------------------------------------------------------------------------------------------------------------------------------------------------------------------------------------------------------------------------------------------------------------------------------------------------------------------------------------------------------------------------------------------------------------------------------------------------------------------------------------------------------------------------------------------------------------------------------------------------------------------------------------------------------------------------------------------------------------------------------------------------------------------------------------------------------------------------------------------------------------------------------------------------------------------------------------------------------------------------------------------------------------------------------------------------------------------------------------------------------------------------------------------------------------------------------------------------------------------------------------------------------------------------------------------------------------------------------------------------------------------------------------------------------------------------------------------------------------------------------------------------------------------------------------------------------------------------------------------------------------------------------------------------------------------------------------------------------------------------------------------------------------------------------------------------------------------------------------------------------------------------------------------------------------------------------------------------------------------------+\n",
            "only showing top 20 rows\n",
            "\n"
          ]
        }
      ]
    },
    {
      "cell_type": "code",
      "source": [
        "#Step 7: Train & Evaluate Logistic Regression Classifier on Word2Vec Features"
      ],
      "metadata": {
        "id": "_Bdq_0886fJr"
      },
      "execution_count": 13,
      "outputs": []
    },
    {
      "cell_type": "code",
      "source": [
        "# Split Data\n",
        "train_data_w2v, test_data_w2v = df.randomSplit([0.8, 0.2], seed=42)\n",
        "\n",
        "# Train Model\n",
        "lr_w2v = LogisticRegression(featuresCol=\"featuresW2Vector\", labelCol=\"label\")\n",
        "lr_w2v_model = lr_w2v.fit(train_data_w2v)\n",
        "\n",
        "# Predictions\n",
        "predictions_w2v = lr_w2v_model.transform(test_data_w2v)\n",
        "predictions_w2v.select(\"text\", \"category\", \"prediction\").show(truncate=False)\n",
        "\n",
        "# Evaluate Model Accuracy\n",
        "accuracy_w2v = evaluator.evaluate(predictions_w2v)\n",
        "print(f\"Word2Vec Model Accuracy: {accuracy_w2v:.2f}\")"
      ],
      "metadata": {
        "colab": {
          "base_uri": "https://localhost:8080/"
        },
        "id": "W0lUYQMl6mrD",
        "outputId": "3182f9dc-70c8-417e-9d12-6dd6fe07083d"
      },
      "execution_count": 14,
      "outputs": [
        {
          "output_type": "stream",
          "name": "stdout",
          "text": [
            "+--------------------------------------------------------------------+----------+----------+\n",
            "|text                                                                |category  |prediction|\n",
            "+--------------------------------------------------------------------+----------+----------+\n",
            "|Machine learning has revolutionized the way data is processed       |Technology|1.0       |\n",
            "|The president addressed the nation in a live broadcast              |Politics  |0.0       |\n",
            "|Machine learning has revolutionized the way data is processed       |Technology|1.0       |\n",
            "|Investors are looking for high-yield bonds in the current market    |Finance   |1.0       |\n",
            "|Cloud computing is becoming increasingly important for businesses   |Technology|1.0       |\n",
            "|International relations are being discussed in diplomatic meetings  |Politics  |3.0       |\n",
            "|The Formula 1 race track is set to host the next grand prix         |Sports    |0.0       |\n",
            "|Financial experts are advising on diversifying investment portfolios|Finance   |2.0       |\n",
            "+--------------------------------------------------------------------+----------+----------+\n",
            "\n",
            "Word2Vec Model Accuracy: 0.75\n"
          ]
        }
      ]
    }
  ]
}